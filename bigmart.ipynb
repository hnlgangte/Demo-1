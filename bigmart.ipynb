{
  "nbformat": 4,
  "nbformat_minor": 0,
  "metadata": {
    "colab": {
      "name": "bigmart.ipynb",
      "provenance": [],
      "collapsed_sections": [],
      "toc_visible": true,
      "authorship_tag": "ABX9TyMI+zfrRw8lDjz8S5TvNkOq"
    },
    "kernelspec": {
      "name": "python3",
      "display_name": "Python 3"
    }
  },
  "cells": [
    {
      "cell_type": "markdown",
      "metadata": {
        "id": "zBfyfo4CIzAe"
      },
      "source": [
        "BigMart Sales Prediction practice problem\n",
        "\n",
        "We have train (8523) and test (5681) data set, train data set has both input and output variable(s). We need to predict the sales for test data set.\n",
        "\n",
        "* Item_Identifier: Unique product ID\n",
        "\n",
        "* Item_Weight: Weight of product\n",
        "\n",
        "* Item_Fat_Content: Whether the product is low fat or not\n",
        "\n",
        "* Item_Visibility: The % of total display area of all products in a store allocated to the particular product\n",
        "\n",
        "* Item_Type: The category to which the product belongs\n",
        "\n",
        "* Item_MRP: Maximum Retail Price (list price) of the product\n",
        "\n",
        "* Outlet_Identifier: Unique store ID\n",
        "* Outlet_Establishment_Year: The year in which store was established\n",
        "\n",
        "* Outlet_Size: The size of the store in terms of ground area covered\n",
        "\n",
        "* Outlet_Location_Type: The type of city in which the store is located\n",
        "\n",
        "* Outlet_Type: Whether the outlet is just a grocery store or some sort of supermarket\n",
        "\n",
        "* Item_Outlet_Sales: Sales of the product in the particulat store. This is the outcome variable to be predicted."
      ]
    },
    {
      "cell_type": "code",
      "metadata": {
        "id": "BadN5iYRAXfA"
      },
      "source": [
        "#Importing required libraries\n",
        "import pandas as pd\n",
        "import numpy as np\n",
        "import seaborn as sns\n",
        "import matplotlib.pyplot as plt\n",
        "%matplotlib inline"
      ],
      "execution_count": 36,
      "outputs": []
    },
    {
      "cell_type": "code",
      "metadata": {
        "id": "veG_e-cZA15R"
      },
      "source": [
        "train=pd.read_csv('train.csv')"
      ],
      "execution_count": 37,
      "outputs": []
    },
    {
      "cell_type": "code",
      "metadata": {
        "id": "gevazwboBCXb",
        "outputId": "4b292b34-bc78-4809-cbe1-2cc7eae746d7",
        "colab": {
          "base_uri": "https://localhost:8080/",
          "height": 309
        }
      },
      "source": [
        "train.head()"
      ],
      "execution_count": 38,
      "outputs": [
        {
          "output_type": "execute_result",
          "data": {
            "text/html": [
              "<div>\n",
              "<style scoped>\n",
              "    .dataframe tbody tr th:only-of-type {\n",
              "        vertical-align: middle;\n",
              "    }\n",
              "\n",
              "    .dataframe tbody tr th {\n",
              "        vertical-align: top;\n",
              "    }\n",
              "\n",
              "    .dataframe thead th {\n",
              "        text-align: right;\n",
              "    }\n",
              "</style>\n",
              "<table border=\"1\" class=\"dataframe\">\n",
              "  <thead>\n",
              "    <tr style=\"text-align: right;\">\n",
              "      <th></th>\n",
              "      <th>Item_Identifier</th>\n",
              "      <th>Item_Weight</th>\n",
              "      <th>Item_Fat_Content</th>\n",
              "      <th>Item_Visibility</th>\n",
              "      <th>Item_Type</th>\n",
              "      <th>Item_MRP</th>\n",
              "      <th>Outlet_Identifier</th>\n",
              "      <th>Outlet_Establishment_Year</th>\n",
              "      <th>Outlet_Size</th>\n",
              "      <th>Outlet_Location_Type</th>\n",
              "      <th>Outlet_Type</th>\n",
              "      <th>Item_Outlet_Sales</th>\n",
              "    </tr>\n",
              "  </thead>\n",
              "  <tbody>\n",
              "    <tr>\n",
              "      <th>0</th>\n",
              "      <td>FDA15</td>\n",
              "      <td>9.30</td>\n",
              "      <td>Low Fat</td>\n",
              "      <td>0.016047</td>\n",
              "      <td>Dairy</td>\n",
              "      <td>249.8092</td>\n",
              "      <td>OUT049</td>\n",
              "      <td>1999</td>\n",
              "      <td>Medium</td>\n",
              "      <td>Tier 1</td>\n",
              "      <td>Supermarket Type1</td>\n",
              "      <td>3735.1380</td>\n",
              "    </tr>\n",
              "    <tr>\n",
              "      <th>1</th>\n",
              "      <td>DRC01</td>\n",
              "      <td>5.92</td>\n",
              "      <td>Regular</td>\n",
              "      <td>0.019278</td>\n",
              "      <td>Soft Drinks</td>\n",
              "      <td>48.2692</td>\n",
              "      <td>OUT018</td>\n",
              "      <td>2009</td>\n",
              "      <td>Medium</td>\n",
              "      <td>Tier 3</td>\n",
              "      <td>Supermarket Type2</td>\n",
              "      <td>443.4228</td>\n",
              "    </tr>\n",
              "    <tr>\n",
              "      <th>2</th>\n",
              "      <td>FDN15</td>\n",
              "      <td>17.50</td>\n",
              "      <td>Low Fat</td>\n",
              "      <td>0.016760</td>\n",
              "      <td>Meat</td>\n",
              "      <td>141.6180</td>\n",
              "      <td>OUT049</td>\n",
              "      <td>1999</td>\n",
              "      <td>Medium</td>\n",
              "      <td>Tier 1</td>\n",
              "      <td>Supermarket Type1</td>\n",
              "      <td>2097.2700</td>\n",
              "    </tr>\n",
              "    <tr>\n",
              "      <th>3</th>\n",
              "      <td>FDX07</td>\n",
              "      <td>19.20</td>\n",
              "      <td>Regular</td>\n",
              "      <td>0.000000</td>\n",
              "      <td>Fruits and Vegetables</td>\n",
              "      <td>182.0950</td>\n",
              "      <td>OUT010</td>\n",
              "      <td>1998</td>\n",
              "      <td>NaN</td>\n",
              "      <td>Tier 3</td>\n",
              "      <td>Grocery Store</td>\n",
              "      <td>732.3800</td>\n",
              "    </tr>\n",
              "    <tr>\n",
              "      <th>4</th>\n",
              "      <td>NCD19</td>\n",
              "      <td>8.93</td>\n",
              "      <td>Low Fat</td>\n",
              "      <td>0.000000</td>\n",
              "      <td>Household</td>\n",
              "      <td>53.8614</td>\n",
              "      <td>OUT013</td>\n",
              "      <td>1987</td>\n",
              "      <td>High</td>\n",
              "      <td>Tier 3</td>\n",
              "      <td>Supermarket Type1</td>\n",
              "      <td>994.7052</td>\n",
              "    </tr>\n",
              "  </tbody>\n",
              "</table>\n",
              "</div>"
            ],
            "text/plain": [
              "  Item_Identifier  Item_Weight  ...        Outlet_Type  Item_Outlet_Sales\n",
              "0           FDA15         9.30  ...  Supermarket Type1          3735.1380\n",
              "1           DRC01         5.92  ...  Supermarket Type2           443.4228\n",
              "2           FDN15        17.50  ...  Supermarket Type1          2097.2700\n",
              "3           FDX07        19.20  ...      Grocery Store           732.3800\n",
              "4           NCD19         8.93  ...  Supermarket Type1           994.7052\n",
              "\n",
              "[5 rows x 12 columns]"
            ]
          },
          "metadata": {
            "tags": []
          },
          "execution_count": 38
        }
      ]
    },
    {
      "cell_type": "code",
      "metadata": {
        "id": "oFPcpkcqBXno",
        "outputId": "8229d1a5-314c-4e76-e5b7-e48abb0c6c5a",
        "colab": {
          "base_uri": "https://localhost:8080/",
          "height": 309
        }
      },
      "source": [
        "test=pd.read_csv('test.csv')\n",
        "test.head()"
      ],
      "execution_count": 39,
      "outputs": [
        {
          "output_type": "execute_result",
          "data": {
            "text/html": [
              "<div>\n",
              "<style scoped>\n",
              "    .dataframe tbody tr th:only-of-type {\n",
              "        vertical-align: middle;\n",
              "    }\n",
              "\n",
              "    .dataframe tbody tr th {\n",
              "        vertical-align: top;\n",
              "    }\n",
              "\n",
              "    .dataframe thead th {\n",
              "        text-align: right;\n",
              "    }\n",
              "</style>\n",
              "<table border=\"1\" class=\"dataframe\">\n",
              "  <thead>\n",
              "    <tr style=\"text-align: right;\">\n",
              "      <th></th>\n",
              "      <th>Item_Identifier</th>\n",
              "      <th>Item_Weight</th>\n",
              "      <th>Item_Fat_Content</th>\n",
              "      <th>Item_Visibility</th>\n",
              "      <th>Item_Type</th>\n",
              "      <th>Item_MRP</th>\n",
              "      <th>Outlet_Identifier</th>\n",
              "      <th>Outlet_Establishment_Year</th>\n",
              "      <th>Outlet_Size</th>\n",
              "      <th>Outlet_Location_Type</th>\n",
              "      <th>Outlet_Type</th>\n",
              "    </tr>\n",
              "  </thead>\n",
              "  <tbody>\n",
              "    <tr>\n",
              "      <th>0</th>\n",
              "      <td>FDW58</td>\n",
              "      <td>20.750</td>\n",
              "      <td>Low Fat</td>\n",
              "      <td>0.007565</td>\n",
              "      <td>Snack Foods</td>\n",
              "      <td>107.8622</td>\n",
              "      <td>OUT049</td>\n",
              "      <td>1999</td>\n",
              "      <td>Medium</td>\n",
              "      <td>Tier 1</td>\n",
              "      <td>Supermarket Type1</td>\n",
              "    </tr>\n",
              "    <tr>\n",
              "      <th>1</th>\n",
              "      <td>FDW14</td>\n",
              "      <td>8.300</td>\n",
              "      <td>reg</td>\n",
              "      <td>0.038428</td>\n",
              "      <td>Dairy</td>\n",
              "      <td>87.3198</td>\n",
              "      <td>OUT017</td>\n",
              "      <td>2007</td>\n",
              "      <td>NaN</td>\n",
              "      <td>Tier 2</td>\n",
              "      <td>Supermarket Type1</td>\n",
              "    </tr>\n",
              "    <tr>\n",
              "      <th>2</th>\n",
              "      <td>NCN55</td>\n",
              "      <td>14.600</td>\n",
              "      <td>Low Fat</td>\n",
              "      <td>0.099575</td>\n",
              "      <td>Others</td>\n",
              "      <td>241.7538</td>\n",
              "      <td>OUT010</td>\n",
              "      <td>1998</td>\n",
              "      <td>NaN</td>\n",
              "      <td>Tier 3</td>\n",
              "      <td>Grocery Store</td>\n",
              "    </tr>\n",
              "    <tr>\n",
              "      <th>3</th>\n",
              "      <td>FDQ58</td>\n",
              "      <td>7.315</td>\n",
              "      <td>Low Fat</td>\n",
              "      <td>0.015388</td>\n",
              "      <td>Snack Foods</td>\n",
              "      <td>155.0340</td>\n",
              "      <td>OUT017</td>\n",
              "      <td>2007</td>\n",
              "      <td>NaN</td>\n",
              "      <td>Tier 2</td>\n",
              "      <td>Supermarket Type1</td>\n",
              "    </tr>\n",
              "    <tr>\n",
              "      <th>4</th>\n",
              "      <td>FDY38</td>\n",
              "      <td>NaN</td>\n",
              "      <td>Regular</td>\n",
              "      <td>0.118599</td>\n",
              "      <td>Dairy</td>\n",
              "      <td>234.2300</td>\n",
              "      <td>OUT027</td>\n",
              "      <td>1985</td>\n",
              "      <td>Medium</td>\n",
              "      <td>Tier 3</td>\n",
              "      <td>Supermarket Type3</td>\n",
              "    </tr>\n",
              "  </tbody>\n",
              "</table>\n",
              "</div>"
            ],
            "text/plain": [
              "  Item_Identifier  Item_Weight  ... Outlet_Location_Type        Outlet_Type\n",
              "0           FDW58       20.750  ...               Tier 1  Supermarket Type1\n",
              "1           FDW14        8.300  ...               Tier 2  Supermarket Type1\n",
              "2           NCN55       14.600  ...               Tier 3      Grocery Store\n",
              "3           FDQ58        7.315  ...               Tier 2  Supermarket Type1\n",
              "4           FDY38          NaN  ...               Tier 3  Supermarket Type3\n",
              "\n",
              "[5 rows x 11 columns]"
            ]
          },
          "metadata": {
            "tags": []
          },
          "execution_count": 39
        }
      ]
    },
    {
      "cell_type": "markdown",
      "metadata": {
        "id": "6R9HSpOrJ11c"
      },
      "source": [
        "## Exploratory Data Analysis"
      ]
    },
    {
      "cell_type": "code",
      "metadata": {
        "id": "qobj0RnJBnqv",
        "outputId": "6ca29a8d-bb0c-4bd4-e9ea-0327dc8ef91e",
        "colab": {
          "base_uri": "https://localhost:8080/",
          "height": 34
        }
      },
      "source": [
        "(train.shape), (test.shape)"
      ],
      "execution_count": 40,
      "outputs": [
        {
          "output_type": "execute_result",
          "data": {
            "text/plain": [
              "((8523, 12), (5681, 11))"
            ]
          },
          "metadata": {
            "tags": []
          },
          "execution_count": 40
        }
      ]
    },
    {
      "cell_type": "code",
      "metadata": {
        "id": "y4Xj9qRoDZqX",
        "outputId": "b364e243-27cc-47f7-cb8f-3c2082a87a42",
        "colab": {
          "base_uri": "https://localhost:8080/",
          "height": 102
        }
      },
      "source": [
        "train.columns"
      ],
      "execution_count": 41,
      "outputs": [
        {
          "output_type": "execute_result",
          "data": {
            "text/plain": [
              "Index(['Item_Identifier', 'Item_Weight', 'Item_Fat_Content', 'Item_Visibility',\n",
              "       'Item_Type', 'Item_MRP', 'Outlet_Identifier',\n",
              "       'Outlet_Establishment_Year', 'Outlet_Size', 'Outlet_Location_Type',\n",
              "       'Outlet_Type', 'Item_Outlet_Sales'],\n",
              "      dtype='object')"
            ]
          },
          "metadata": {
            "tags": []
          },
          "execution_count": 41
        }
      ]
    },
    {
      "cell_type": "code",
      "metadata": {
        "id": "BmDX-2wIDaDk",
        "outputId": "f9e7eed6-ca64-45da-ba37-b71170381179",
        "colab": {
          "base_uri": "https://localhost:8080/",
          "height": 102
        }
      },
      "source": [
        "test.columns"
      ],
      "execution_count": 42,
      "outputs": [
        {
          "output_type": "execute_result",
          "data": {
            "text/plain": [
              "Index(['Item_Identifier', 'Item_Weight', 'Item_Fat_Content', 'Item_Visibility',\n",
              "       'Item_Type', 'Item_MRP', 'Outlet_Identifier',\n",
              "       'Outlet_Establishment_Year', 'Outlet_Size', 'Outlet_Location_Type',\n",
              "       'Outlet_Type'],\n",
              "      dtype='object')"
            ]
          },
          "metadata": {
            "tags": []
          },
          "execution_count": 42
        }
      ]
    },
    {
      "cell_type": "code",
      "metadata": {
        "id": "Cz828A6EKLbl",
        "outputId": "ee4cc819-5e24-4bb2-a959-97bb46039096",
        "colab": {
          "base_uri": "https://localhost:8080/",
          "height": 34
        }
      },
      "source": [
        "#Let us first merge the datasets for exploratory data analysis\n",
        "train['source'] = 'train'\n",
        "test['source'] = 'test'\n",
        "test['Item_Outlet_Sales'] = 0\n",
        "data = pd.concat([train, test], sort = False)\n",
        "print(train.shape, test.shape, data.shape)"
      ],
      "execution_count": 43,
      "outputs": [
        {
          "output_type": "stream",
          "text": [
            "(8523, 13) (5681, 13) (14204, 13)\n"
          ],
          "name": "stdout"
        }
      ]
    },
    {
      "cell_type": "code",
      "metadata": {
        "id": "qkF_-7VxCPPR",
        "outputId": "e20a03bd-4cfa-4e1b-a11a-18938f04be7b",
        "colab": {
          "base_uri": "https://localhost:8080/",
          "height": 170
        }
      },
      "source": [
        "data['Item_Outlet_Sales'].describe()"
      ],
      "execution_count": 44,
      "outputs": [
        {
          "output_type": "execute_result",
          "data": {
            "text/plain": [
              "count    14204.000000\n",
              "mean      1308.865489\n",
              "std       1699.791423\n",
              "min          0.000000\n",
              "25%          0.000000\n",
              "50%        559.272000\n",
              "75%       2163.184200\n",
              "max      13086.964800\n",
              "Name: Item_Outlet_Sales, dtype: float64"
            ]
          },
          "metadata": {
            "tags": []
          },
          "execution_count": 44
        }
      ]
    },
    {
      "cell_type": "code",
      "metadata": {
        "id": "Z4BqVFVBCfE7",
        "outputId": "0a1808d1-4eb4-4090-8a2c-b6403583d3d5",
        "colab": {
          "base_uri": "https://localhost:8080/",
          "height": 351
        }
      },
      "source": [
        "sns.distplot(data['Item_Outlet_Sales'])"
      ],
      "execution_count": 45,
      "outputs": [
        {
          "output_type": "stream",
          "text": [
            "/usr/local/lib/python3.6/dist-packages/seaborn/distributions.py:2551: FutureWarning: `distplot` is a deprecated function and will be removed in a future version. Please adapt your code to use either `displot` (a figure-level function with similar flexibility) or `histplot` (an axes-level function for histograms).\n",
            "  warnings.warn(msg, FutureWarning)\n"
          ],
          "name": "stderr"
        },
        {
          "output_type": "execute_result",
          "data": {
            "text/plain": [
              "<matplotlib.axes._subplots.AxesSubplot at 0x7f10bad4d908>"
            ]
          },
          "metadata": {
            "tags": []
          },
          "execution_count": 45
        },
        {
          "output_type": "display_data",
          "data": {
            "image/png": "[encoded data removed]",
            "text/plain": [
              "<Figure size 432x288 with 1 Axes>"
            ]
          },
          "metadata": {
            "tags": [],
            "needs_background": "light"
          }
        }
      ]
    },
    {
      "cell_type": "markdown",
      "metadata": {
        "id": "LU3EV0RtLMEn"
      },
      "source": [
        "* Deviate from the normal distribution.\n",
        "* Have appreciable positive skewness.\n",
        "* Show peakedness."
      ]
    },
    {
      "cell_type": "code",
      "metadata": {
        "id": "aUwyakPsLiMm",
        "outputId": "bce4e393-203d-4bb1-9fc2-e040f516a1b1",
        "colab": {
          "base_uri": "https://localhost:8080/",
          "height": 51
        }
      },
      "source": [
        "print('Skewness: %f' % data['Item_Outlet_Sales'].skew())\n",
        "print('Kurtsis: %f' %data['Item_Outlet_Sales'].kurt())"
      ],
      "execution_count": 46,
      "outputs": [
        {
          "output_type": "stream",
          "text": [
            "Skewness: 1.544684\n",
            "Kurtsis: 2.419439\n"
          ],
          "name": "stdout"
        }
      ]
    },
    {
      "cell_type": "code",
      "metadata": {
        "id": "VDaDfh-jLvS-",
        "outputId": "68cee3b8-7e06-4742-d1b8-d4bf7e7571da",
        "colab": {
          "base_uri": "https://localhost:8080/",
          "height": 255
        }
      },
      "source": [
        "#Let's look at the data types of the variable\n",
        "data.dtypes"
      ],
      "execution_count": 47,
      "outputs": [
        {
          "output_type": "execute_result",
          "data": {
            "text/plain": [
              "Item_Identifier               object\n",
              "Item_Weight                  float64\n",
              "Item_Fat_Content              object\n",
              "Item_Visibility              float64\n",
              "Item_Type                     object\n",
              "Item_MRP                     float64\n",
              "Outlet_Identifier             object\n",
              "Outlet_Establishment_Year      int64\n",
              "Outlet_Size                   object\n",
              "Outlet_Location_Type          object\n",
              "Outlet_Type                   object\n",
              "Item_Outlet_Sales            float64\n",
              "source                        object\n",
              "dtype: object"
            ]
          },
          "metadata": {
            "tags": []
          },
          "execution_count": 47
        }
      ]
    },
    {
      "cell_type": "code",
      "metadata": {
        "id": "BkW6uxACMA8h",
        "outputId": "9e648236-a9a5-49ea-ce2b-07a9a7d0fd71",
        "colab": {
          "base_uri": "https://localhost:8080/",
          "height": 165
        }
      },
      "source": [
        "categorial_features = data.select_dtypes(include=[np.object])\n",
        "categorial_features.head(2)"
      ],
      "execution_count": 48,
      "outputs": [
        {
          "output_type": "execute_result",
          "data": {
            "text/html": [
              "<div>\n",
              "<style scoped>\n",
              "    .dataframe tbody tr th:only-of-type {\n",
              "        vertical-align: middle;\n",
              "    }\n",
              "\n",
              "    .dataframe tbody tr th {\n",
              "        vertical-align: top;\n",
              "    }\n",
              "\n",
              "    .dataframe thead th {\n",
              "        text-align: right;\n",
              "    }\n",
              "</style>\n",
              "<table border=\"1\" class=\"dataframe\">\n",
              "  <thead>\n",
              "    <tr style=\"text-align: right;\">\n",
              "      <th></th>\n",
              "      <th>Item_Identifier</th>\n",
              "      <th>Item_Fat_Content</th>\n",
              "      <th>Item_Type</th>\n",
              "      <th>Outlet_Identifier</th>\n",
              "      <th>Outlet_Size</th>\n",
              "      <th>Outlet_Location_Type</th>\n",
              "      <th>Outlet_Type</th>\n",
              "      <th>source</th>\n",
              "    </tr>\n",
              "  </thead>\n",
              "  <tbody>\n",
              "    <tr>\n",
              "      <th>0</th>\n",
              "      <td>FDA15</td>\n",
              "      <td>Low Fat</td>\n",
              "      <td>Dairy</td>\n",
              "      <td>OUT049</td>\n",
              "      <td>Medium</td>\n",
              "      <td>Tier 1</td>\n",
              "      <td>Supermarket Type1</td>\n",
              "      <td>train</td>\n",
              "    </tr>\n",
              "    <tr>\n",
              "      <th>1</th>\n",
              "      <td>DRC01</td>\n",
              "      <td>Regular</td>\n",
              "      <td>Soft Drinks</td>\n",
              "      <td>OUT018</td>\n",
              "      <td>Medium</td>\n",
              "      <td>Tier 3</td>\n",
              "      <td>Supermarket Type2</td>\n",
              "      <td>train</td>\n",
              "    </tr>\n",
              "  </tbody>\n",
              "</table>\n",
              "</div>"
            ],
            "text/plain": [
              "  Item_Identifier Item_Fat_Content  ...        Outlet_Type source\n",
              "0           FDA15          Low Fat  ...  Supermarket Type1  train\n",
              "1           DRC01          Regular  ...  Supermarket Type2  train\n",
              "\n",
              "[2 rows x 8 columns]"
            ]
          },
          "metadata": {
            "tags": []
          },
          "execution_count": 48
        }
      ]
    },
    {
      "cell_type": "code",
      "metadata": {
        "id": "kJoCf65KMP5w",
        "outputId": "4d7d6302-f282-4f12-d036-d670cb9564d7",
        "colab": {
          "base_uri": "https://localhost:8080/",
          "height": 111
        }
      },
      "source": [
        "numerical_features = data.select_dtypes(include=[np.number])\n",
        "numerical_features.head(2)"
      ],
      "execution_count": 49,
      "outputs": [
        {
          "output_type": "execute_result",
          "data": {
            "text/html": [
              "<div>\n",
              "<style scoped>\n",
              "    .dataframe tbody tr th:only-of-type {\n",
              "        vertical-align: middle;\n",
              "    }\n",
              "\n",
              "    .dataframe tbody tr th {\n",
              "        vertical-align: top;\n",
              "    }\n",
              "\n",
              "    .dataframe thead th {\n",
              "        text-align: right;\n",
              "    }\n",
              "</style>\n",
              "<table border=\"1\" class=\"dataframe\">\n",
              "  <thead>\n",
              "    <tr style=\"text-align: right;\">\n",
              "      <th></th>\n",
              "      <th>Item_Weight</th>\n",
              "      <th>Item_Visibility</th>\n",
              "      <th>Item_MRP</th>\n",
              "      <th>Outlet_Establishment_Year</th>\n",
              "      <th>Item_Outlet_Sales</th>\n",
              "    </tr>\n",
              "  </thead>\n",
              "  <tbody>\n",
              "    <tr>\n",
              "      <th>0</th>\n",
              "      <td>9.30</td>\n",
              "      <td>0.016047</td>\n",
              "      <td>249.8092</td>\n",
              "      <td>1999</td>\n",
              "      <td>3735.1380</td>\n",
              "    </tr>\n",
              "    <tr>\n",
              "      <th>1</th>\n",
              "      <td>5.92</td>\n",
              "      <td>0.019278</td>\n",
              "      <td>48.2692</td>\n",
              "      <td>2009</td>\n",
              "      <td>443.4228</td>\n",
              "    </tr>\n",
              "  </tbody>\n",
              "</table>\n",
              "</div>"
            ],
            "text/plain": [
              "   Item_Weight  Item_Visibility  ...  Outlet_Establishment_Year  Item_Outlet_Sales\n",
              "0         9.30         0.016047  ...                       1999          3735.1380\n",
              "1         5.92         0.019278  ...                       2009           443.4228\n",
              "\n",
              "[2 rows x 5 columns]"
            ]
          },
          "metadata": {
            "tags": []
          },
          "execution_count": 49
        }
      ]
    },
    {
      "cell_type": "code",
      "metadata": {
        "id": "2u4zm2h-MhJG",
        "outputId": "863473cc-c14f-44b9-b0f5-d869ddc7dd41",
        "colab": {
          "base_uri": "https://localhost:8080/",
          "height": 187
        }
      },
      "source": [
        "data['Outlet_Establishment_Year'].value_counts()"
      ],
      "execution_count": 50,
      "outputs": [
        {
          "output_type": "execute_result",
          "data": {
            "text/plain": [
              "1985    2439\n",
              "1987    1553\n",
              "1999    1550\n",
              "1997    1550\n",
              "2004    1550\n",
              "2002    1548\n",
              "2009    1546\n",
              "2007    1543\n",
              "1998     925\n",
              "Name: Outlet_Establishment_Year, dtype: int64"
            ]
          },
          "metadata": {
            "tags": []
          },
          "execution_count": 50
        }
      ]
    },
    {
      "cell_type": "markdown",
      "metadata": {
        "id": "kZzJ0I82MoUx"
      },
      "source": [
        "### Finding missing value"
      ]
    },
    {
      "cell_type": "code",
      "metadata": {
        "id": "UNacV_YmMnUw",
        "outputId": "51d8a335-e180-4803-d7f7-ae3d57e42a67",
        "colab": {
          "base_uri": "https://localhost:8080/",
          "height": 255
        }
      },
      "source": [
        "data.apply(lambda x: sum(x.isnull()))"
      ],
      "execution_count": 51,
      "outputs": [
        {
          "output_type": "execute_result",
          "data": {
            "text/plain": [
              "Item_Identifier                 0\n",
              "Item_Weight                  2439\n",
              "Item_Fat_Content                0\n",
              "Item_Visibility                 0\n",
              "Item_Type                       0\n",
              "Item_MRP                        0\n",
              "Outlet_Identifier               0\n",
              "Outlet_Establishment_Year       0\n",
              "Outlet_Size                  4016\n",
              "Outlet_Location_Type            0\n",
              "Outlet_Type                     0\n",
              "Item_Outlet_Sales               0\n",
              "source                          0\n",
              "dtype: int64"
            ]
          },
          "metadata": {
            "tags": []
          },
          "execution_count": 51
        }
      ]
    },
    {
      "cell_type": "code",
      "metadata": {
        "id": "6brSAcco7HR4",
        "outputId": "2d70fade-a424-47be-911c-b9e1e07e8cb7",
        "colab": {
          "base_uri": "https://localhost:8080/",
          "height": 297
        }
      },
      "source": [
        "data.describe()"
      ],
      "execution_count": 52,
      "outputs": [
        {
          "output_type": "execute_result",
          "data": {
            "text/html": [
              "<div>\n",
              "<style scoped>\n",
              "    .dataframe tbody tr th:only-of-type {\n",
              "        vertical-align: middle;\n",
              "    }\n",
              "\n",
              "    .dataframe tbody tr th {\n",
              "        vertical-align: top;\n",
              "    }\n",
              "\n",
              "    .dataframe thead th {\n",
              "        text-align: right;\n",
              "    }\n",
              "</style>\n",
              "<table border=\"1\" class=\"dataframe\">\n",
              "  <thead>\n",
              "    <tr style=\"text-align: right;\">\n",
              "      <th></th>\n",
              "      <th>Item_Weight</th>\n",
              "      <th>Item_Visibility</th>\n",
              "      <th>Item_MRP</th>\n",
              "      <th>Outlet_Establishment_Year</th>\n",
              "      <th>Item_Outlet_Sales</th>\n",
              "    </tr>\n",
              "  </thead>\n",
              "  <tbody>\n",
              "    <tr>\n",
              "      <th>count</th>\n",
              "      <td>11765.000000</td>\n",
              "      <td>14204.000000</td>\n",
              "      <td>14204.000000</td>\n",
              "      <td>14204.000000</td>\n",
              "      <td>14204.000000</td>\n",
              "    </tr>\n",
              "    <tr>\n",
              "      <th>mean</th>\n",
              "      <td>12.792854</td>\n",
              "      <td>0.065953</td>\n",
              "      <td>141.004977</td>\n",
              "      <td>1997.830681</td>\n",
              "      <td>1308.865489</td>\n",
              "    </tr>\n",
              "    <tr>\n",
              "      <th>std</th>\n",
              "      <td>4.652502</td>\n",
              "      <td>0.051459</td>\n",
              "      <td>62.086938</td>\n",
              "      <td>8.371664</td>\n",
              "      <td>1699.791423</td>\n",
              "    </tr>\n",
              "    <tr>\n",
              "      <th>min</th>\n",
              "      <td>4.555000</td>\n",
              "      <td>0.000000</td>\n",
              "      <td>31.290000</td>\n",
              "      <td>1985.000000</td>\n",
              "      <td>0.000000</td>\n",
              "    </tr>\n",
              "    <tr>\n",
              "      <th>25%</th>\n",
              "      <td>8.710000</td>\n",
              "      <td>0.027036</td>\n",
              "      <td>94.012000</td>\n",
              "      <td>1987.000000</td>\n",
              "      <td>0.000000</td>\n",
              "    </tr>\n",
              "    <tr>\n",
              "      <th>50%</th>\n",
              "      <td>12.600000</td>\n",
              "      <td>0.054021</td>\n",
              "      <td>142.247000</td>\n",
              "      <td>1999.000000</td>\n",
              "      <td>559.272000</td>\n",
              "    </tr>\n",
              "    <tr>\n",
              "      <th>75%</th>\n",
              "      <td>16.750000</td>\n",
              "      <td>0.094037</td>\n",
              "      <td>185.855600</td>\n",
              "      <td>2004.000000</td>\n",
              "      <td>2163.184200</td>\n",
              "    </tr>\n",
              "    <tr>\n",
              "      <th>max</th>\n",
              "      <td>21.350000</td>\n",
              "      <td>0.328391</td>\n",
              "      <td>266.888400</td>\n",
              "      <td>2009.000000</td>\n",
              "      <td>13086.964800</td>\n",
              "    </tr>\n",
              "  </tbody>\n",
              "</table>\n",
              "</div>"
            ],
            "text/plain": [
              "        Item_Weight  ...  Item_Outlet_Sales\n",
              "count  11765.000000  ...       14204.000000\n",
              "mean      12.792854  ...        1308.865489\n",
              "std        4.652502  ...        1699.791423\n",
              "min        4.555000  ...           0.000000\n",
              "25%        8.710000  ...           0.000000\n",
              "50%       12.600000  ...         559.272000\n",
              "75%       16.750000  ...        2163.184200\n",
              "max       21.350000  ...       13086.964800\n",
              "\n",
              "[8 rows x 5 columns]"
            ]
          },
          "metadata": {
            "tags": []
          },
          "execution_count": 52
        }
      ]
    },
    {
      "cell_type": "markdown",
      "metadata": {
        "id": "rzUihTOIOeX-"
      },
      "source": [
        "### Some observations:\n",
        "\n",
        "* Item_Visibility has a min value of zero. This makes no practical sense because when a product is being sold in a store, the visibility cannot be 0.\n",
        "\n",
        "* Outlet_Establishment_Years vary from 1985 to 2009. The values might not be apt in this form. Rather, if we can convert them to how old the particular store is, it should have a better impact on sales.\n",
        "\n",
        "* The lower ‘count’ of Item_Weight and Outlet_Size confirms the findings from the missing value check."
      ]
    },
    {
      "cell_type": "code",
      "metadata": {
        "id": "Qm-jGl-2OdTR",
        "outputId": "342cad68-95f2-4817-f996-7e0efd76278a",
        "colab": {
          "base_uri": "https://localhost:8080/",
          "height": 255
        }
      },
      "source": [
        "data.apply(lambda x : len(x.unique()))"
      ],
      "execution_count": 53,
      "outputs": [
        {
          "output_type": "execute_result",
          "data": {
            "text/plain": [
              "Item_Identifier               1559\n",
              "Item_Weight                    416\n",
              "Item_Fat_Content                 5\n",
              "Item_Visibility              13006\n",
              "Item_Type                       16\n",
              "Item_MRP                      8052\n",
              "Outlet_Identifier               10\n",
              "Outlet_Establishment_Year        9\n",
              "Outlet_Size                      4\n",
              "Outlet_Location_Type             3\n",
              "Outlet_Type                      4\n",
              "Item_Outlet_Sales             3494\n",
              "source                           2\n",
              "dtype: int64"
            ]
          },
          "metadata": {
            "tags": []
          },
          "execution_count": 53
        }
      ]
    },
    {
      "cell_type": "markdown",
      "metadata": {
        "id": "kVD_RkrmPDoi"
      },
      "source": [
        "This tells us that there are 1559 products and 10 outlets/stores (which was also mentioned in problem statement). Another thing that should catch attention is that Item_Type has 16 unique values. Let’s explore further using the frequency of different categories in each nominal variable"
      ]
    },
    {
      "cell_type": "code",
      "metadata": {
        "id": "TIDs2K1QPZaX",
        "outputId": "cc524c13-f3aa-43a3-86af-c4919d3e521e",
        "colab": {
          "base_uri": "https://localhost:8080/",
          "height": 1000
        }
      },
      "source": [
        "#frequency of categories\n",
        "for col in categorial_features:\n",
        "    print('\\n%s column: '%col)\n",
        "    print(data[col].value_counts())"
      ],
      "execution_count": 54,
      "outputs": [
        {
          "output_type": "stream",
          "text": [
            "\n",
            "Item_Identifier column: \n",
            "FDS25    10\n",
            "FDS32    10\n",
            "FDR27    10\n",
            "DRN47    10\n",
            "NCN41    10\n",
            "         ..\n",
            "NCL42     7\n",
            "FDX49     7\n",
            "FDI46     7\n",
            "FDR51     7\n",
            "FDH58     7\n",
            "Name: Item_Identifier, Length: 1559, dtype: int64\n",
            "\n",
            "Item_Fat_Content column: \n",
            "Low Fat    8485\n",
            "Regular    4824\n",
            "LF          522\n",
            "reg         195\n",
            "low fat     178\n",
            "Name: Item_Fat_Content, dtype: int64\n",
            "\n",
            "Item_Type column: \n",
            "Fruits and Vegetables    2013\n",
            "Snack Foods              1989\n",
            "Household                1548\n",
            "Frozen Foods             1426\n",
            "Dairy                    1136\n",
            "Baking Goods             1086\n",
            "Canned                   1084\n",
            "Health and Hygiene        858\n",
            "Meat                      736\n",
            "Soft Drinks               726\n",
            "Breads                    416\n",
            "Hard Drinks               362\n",
            "Others                    280\n",
            "Starchy Foods             269\n",
            "Breakfast                 186\n",
            "Seafood                    89\n",
            "Name: Item_Type, dtype: int64\n",
            "\n",
            "Outlet_Identifier column: \n",
            "OUT027    1559\n",
            "OUT013    1553\n",
            "OUT046    1550\n",
            "OUT035    1550\n",
            "OUT049    1550\n",
            "OUT045    1548\n",
            "OUT018    1546\n",
            "OUT017    1543\n",
            "OUT010     925\n",
            "OUT019     880\n",
            "Name: Outlet_Identifier, dtype: int64\n",
            "\n",
            "Outlet_Size column: \n",
            "Medium    4655\n",
            "Small     3980\n",
            "High      1553\n",
            "Name: Outlet_Size, dtype: int64\n",
            "\n",
            "Outlet_Location_Type column: \n",
            "Tier 3    5583\n",
            "Tier 2    4641\n",
            "Tier 1    3980\n",
            "Name: Outlet_Location_Type, dtype: int64\n",
            "\n",
            "Outlet_Type column: \n",
            "Supermarket Type1    9294\n",
            "Grocery Store        1805\n",
            "Supermarket Type3    1559\n",
            "Supermarket Type2    1546\n",
            "Name: Outlet_Type, dtype: int64\n",
            "\n",
            "source column: \n",
            "train    8523\n",
            "test     5681\n",
            "Name: source, dtype: int64\n"
          ],
          "name": "stdout"
        }
      ]
    },
    {
      "cell_type": "markdown",
      "metadata": {
        "id": "vK7ezbn9-SHn"
      },
      "source": [
        "Lets start looking Outlet_Size, Outlet_Location_Type, and Outlet_Type distribution in Item_Outlet_Sale"
      ]
    },
    {
      "cell_type": "markdown",
      "metadata": {
        "id": "bjhrFOC2_6Fg"
      },
      "source": [
        "### Data Cleaning and Imputing Missing Values\n",
        "\n",
        "We found two variables with missing values – Item_Weight and Outlet_Size. Lets impute the former by the average weight of the particular item. This can be done as"
      ]
    },
    {
      "cell_type": "code",
      "metadata": {
        "id": "FozcB-TF_-DR",
        "outputId": "16147387-f389-4040-c67e-d1cf8dfe2a5b",
        "colab": {
          "base_uri": "https://localhost:8080/",
          "height": 51
        }
      },
      "source": [
        "item_avg_weight = data.pivot_table(values='Item_Weight', index='Item_Identifier')\n",
        "\n",
        "missing_values = data['Item_Weight'].isnull()\n",
        "print('Missing values: %d' %sum(missing_values))\n",
        "\n",
        "data.loc[missing_values,'Item_Weight']  = data.loc[missing_values,'Item_Identifier'].apply(lambda x: item_avg_weight.at[x,'Item_Weight'])\n",
        "print('Missing values after immputation %d' %sum(data['Item_Weight'].isnull()))"
      ],
      "execution_count": 55,
      "outputs": [
        {
          "output_type": "stream",
          "text": [
            "Missing values: 2439\n",
            "Missing values after immputation 0\n"
          ],
          "name": "stdout"
        }
      ]
    },
    {
      "cell_type": "markdown",
      "metadata": {
        "id": "_ahsh9Y-AzSH"
      },
      "source": [
        "This confirms that the column has no missing values now. Lets impute Outlet_Size with the mode of the Outlet_Size for the particular type of outlet"
      ]
    },
    {
      "cell_type": "code",
      "metadata": {
        "id": "X1d41m3pA0Uz",
        "outputId": "d7903db9-6a21-48a0-e784-6e687726958d",
        "colab": {
          "base_uri": "https://localhost:8080/",
          "height": 119
        }
      },
      "source": [
        "#Import mode function:\n",
        "from scipy.stats import mode\n",
        "\n",
        "#Determing the mode for each\n",
        "outlet_size_mode = data.pivot_table(values='Outlet_Size', columns='Outlet_Type',aggfunc=(lambda x:mode(x.astype('str')).mode[0]))\n",
        "print ('Mode for each Outlet_Type:')\n",
        "print (outlet_size_mode)\n",
        "\n",
        "#Get a boolean variable specifying missing Item_Weight values\n",
        "missing_values = data['Outlet_Size'].isnull() \n",
        "\n",
        "#Impute data and check #missing values before and after imputation to confirm\n",
        "print ('\\nOrignal #missing: %d'% sum(missing_values))\n",
        "data.loc[missing_values,'Outlet_Size'] = data.loc[missing_values,'Outlet_Type'].apply(lambda x: outlet_size_mode[x])\n",
        "print (sum(data['Outlet_Size'].isnull()))\n"
      ],
      "execution_count": 56,
      "outputs": [
        {
          "output_type": "stream",
          "text": [
            "Mode for each Outlet_Type:\n",
            "Outlet_Type Grocery Store Supermarket Type1 Supermarket Type2 Supermarket Type3\n",
            "Outlet_Size           nan             Small            Medium            Medium\n",
            "\n",
            "Orignal #missing: 4016\n",
            "0\n"
          ],
          "name": "stdout"
        }
      ]
    },
    {
      "cell_type": "markdown",
      "metadata": {
        "id": "2U_sg-6lEEWw"
      },
      "source": [
        "Modify Item_Visibility\n",
        "\n",
        "We noticed that the minimum value here is 0, which makes no practical sense. Lets consider it like missing information and impute it with mean visibility of that product"
      ]
    },
    {
      "cell_type": "code",
      "metadata": {
        "id": "8IheFyhNEDQK",
        "outputId": "b2c9fce8-a22b-4033-8e49-741c5149e3cd",
        "colab": {
          "base_uri": "https://localhost:8080/",
          "height": 51
        }
      },
      "source": [
        "#Determine average visibility of a product\n",
        "visibility_avg = data.pivot_table(values='Item_Visibility', index='Item_Identifier')\n",
        "\n",
        "#Impute 0 values with mean visibility of that product:\n",
        "missing_values = (data['Item_Visibility'] == 0)\n",
        "\n",
        "print ('Number of 0 values initially: %d'%sum(missing_values))\n",
        "data.loc[missing_values,'Item_Visibility'] = data.loc[missing_values,'Item_Identifier'].apply(lambda x: visibility_avg.at[x, 'Item_Visibility'])\n",
        "print ('Number of 0 values after modification: %d'%sum(data['Item_Visibility'] == 0))"
      ],
      "execution_count": 57,
      "outputs": [
        {
          "output_type": "stream",
          "text": [
            "Number of 0 values initially: 879\n",
            "Number of 0 values after modification: 0\n"
          ],
          "name": "stdout"
        }
      ]
    },
    {
      "cell_type": "code",
      "metadata": {
        "id": "XEnxVSkDFrGW",
        "outputId": "3d58bd49-fc67-43c9-f3e3-3db2708fe065",
        "colab": {
          "base_uri": "https://localhost:8080/",
          "height": 85
        }
      },
      "source": [
        "#Get the first two characters of ID:\n",
        "data['Item_Type_Combined'] = data['Item_Identifier'].apply(lambda x: x[0:2])\n",
        "#Rename them to more intuitive categories:\n",
        "data['Item_Type_Combined'] = data['Item_Type_Combined'].map({'FD':'Food',\n",
        "                                                             'NC':'Non-Consumable',\n",
        "                                                             'DR':'Drinks'})\n",
        "data['Item_Type_Combined'].value_counts()"
      ],
      "execution_count": 58,
      "outputs": [
        {
          "output_type": "execute_result",
          "data": {
            "text/plain": [
              "Food              10201\n",
              "Non-Consumable     2686\n",
              "Drinks             1317\n",
              "Name: Item_Type_Combined, dtype: int64"
            ]
          },
          "metadata": {
            "tags": []
          },
          "execution_count": 58
        }
      ]
    },
    {
      "cell_type": "markdown",
      "metadata": {
        "id": "yQSKgB16GX8X"
      },
      "source": [
        "### Modify categories of Item_Fat_Content\n",
        "\n",
        "We found typos and difference in representation in categories of Item_Fat_Content variable. This can be corrected as"
      ]
    },
    {
      "cell_type": "code",
      "metadata": {
        "id": "zl_ZqGPAGnzC",
        "outputId": "b74bdafe-0911-4f69-d2a9-e578e7df43be",
        "colab": {
          "base_uri": "https://localhost:8080/",
          "height": 221
        }
      },
      "source": [
        "#Change categories of low fat:\n",
        "print('Original Categories:')\n",
        "print(data['Item_Fat_Content'].value_counts())\n",
        "\n",
        "print('\\nModified Categories:')\n",
        "data['Item_Fat_Content'] = data['Item_Fat_Content'].replace({'LF':'Low Fat',\n",
        "                                                             'reg':'Regular',\n",
        "                                                             'low fat':'Low Fat'})\n",
        "print(data['Item_Fat_Content'].value_counts())"
      ],
      "execution_count": 59,
      "outputs": [
        {
          "output_type": "stream",
          "text": [
            "Original Categories:\n",
            "Low Fat    8485\n",
            "Regular    4824\n",
            "LF          522\n",
            "reg         195\n",
            "low fat     178\n",
            "Name: Item_Fat_Content, dtype: int64\n",
            "\n",
            "Modified Categories:\n",
            "Low Fat    9185\n",
            "Regular    5019\n",
            "Name: Item_Fat_Content, dtype: int64\n"
          ],
          "name": "stdout"
        }
      ]
    },
    {
      "cell_type": "code",
      "metadata": {
        "id": "MovtWtTDHBj-",
        "outputId": "55563b6d-5636-489b-85e2-95a4435db40d",
        "colab": {
          "base_uri": "https://localhost:8080/",
          "height": 85
        }
      },
      "source": [
        "data.index = data['Outlet_Establishment_Year']\n",
        "data.index"
      ],
      "execution_count": 60,
      "outputs": [
        {
          "output_type": "execute_result",
          "data": {
            "text/plain": [
              "Int64Index([1999, 2009, 1999, 1998, 1987, 2009, 1987, 1985, 2002, 2007,\n",
              "            ...\n",
              "            1999, 1999, 2009, 1997, 1999, 1997, 2009, 2002, 2007, 2002],\n",
              "           dtype='int64', name='Outlet_Establishment_Year', length=14204)"
            ]
          },
          "metadata": {
            "tags": []
          },
          "execution_count": 60
        }
      ]
    },
    {
      "cell_type": "code",
      "metadata": {
        "id": "b8C7fjUEHMaL",
        "outputId": "c51ffb62-b737-4432-cb16-2239ac4ceef8",
        "colab": {
          "base_uri": "https://localhost:8080/",
          "height": 142
        }
      },
      "source": [
        "df = data.loc[:,['Item_Outlet_Sales']]\n",
        "df.head(2)"
      ],
      "execution_count": 61,
      "outputs": [
        {
          "output_type": "execute_result",
          "data": {
            "text/html": [
              "<div>\n",
              "<style scoped>\n",
              "    .dataframe tbody tr th:only-of-type {\n",
              "        vertical-align: middle;\n",
              "    }\n",
              "\n",
              "    .dataframe tbody tr th {\n",
              "        vertical-align: top;\n",
              "    }\n",
              "\n",
              "    .dataframe thead th {\n",
              "        text-align: right;\n",
              "    }\n",
              "</style>\n",
              "<table border=\"1\" class=\"dataframe\">\n",
              "  <thead>\n",
              "    <tr style=\"text-align: right;\">\n",
              "      <th></th>\n",
              "      <th>Item_Outlet_Sales</th>\n",
              "    </tr>\n",
              "    <tr>\n",
              "      <th>Outlet_Establishment_Year</th>\n",
              "      <th></th>\n",
              "    </tr>\n",
              "  </thead>\n",
              "  <tbody>\n",
              "    <tr>\n",
              "      <th>1999</th>\n",
              "      <td>3735.1380</td>\n",
              "    </tr>\n",
              "    <tr>\n",
              "      <th>2009</th>\n",
              "      <td>443.4228</td>\n",
              "    </tr>\n",
              "  </tbody>\n",
              "</table>\n",
              "</div>"
            ],
            "text/plain": [
              "                           Item_Outlet_Sales\n",
              "Outlet_Establishment_Year                   \n",
              "1999                               3735.1380\n",
              "2009                                443.4228"
            ]
          },
          "metadata": {
            "tags": []
          },
          "execution_count": 61
        }
      ]
    },
    {
      "cell_type": "markdown",
      "metadata": {
        "id": "_H8WoS2v-7ts"
      },
      "source": [
        "Determine the years of operation of a store We wanted to make a new column depicting the years of operation of a store."
      ]
    },
    {
      "cell_type": "code",
      "metadata": {
        "id": "PfvQ9aBH-6QL",
        "outputId": "489eada4-d1e0-48f0-d4ad-f7f38f65efa4",
        "colab": {
          "base_uri": "https://localhost:8080/",
          "height": 170
        }
      },
      "source": [
        "data['Outlet_Years'] = 2009 - data['Outlet_Establishment_Year']\n",
        "data['Outlet_Years'].describe()"
      ],
      "execution_count": 62,
      "outputs": [
        {
          "output_type": "execute_result",
          "data": {
            "text/plain": [
              "count    14204.000000\n",
              "mean        11.169319\n",
              "std          8.371664\n",
              "min          0.000000\n",
              "25%          5.000000\n",
              "50%         10.000000\n",
              "75%         22.000000\n",
              "max         24.000000\n",
              "Name: Outlet_Years, dtype: float64"
            ]
          },
          "metadata": {
            "tags": []
          },
          "execution_count": 62
        }
      ]
    },
    {
      "cell_type": "markdown",
      "metadata": {
        "id": "URA5dFtfIICY"
      },
      "source": [
        "Numerical and One-Hot Coding of Categorical variables"
      ]
    },
    {
      "cell_type": "code",
      "metadata": {
        "id": "28wx-ibVIGgq"
      },
      "source": [
        "#Import library:\n",
        "from sklearn.preprocessing import LabelEncoder\n",
        "le = LabelEncoder()\n",
        "#le.fit_transform convert it into numerical\n",
        "#New variable for outlet\n",
        "data['Outlet'] = le.fit_transform(data['Outlet_Identifier'])\n",
        "var_mod = ['Item_Fat_Content','Outlet_Location_Type','Outlet_Size','Item_Type_Combined','Outlet_Type','Outlet']\n",
        "le = LabelEncoder()\n",
        "for i in var_mod:\n",
        "    data[i] = le.fit_transform(data[i])"
      ],
      "execution_count": 63,
      "outputs": []
    },
    {
      "cell_type": "code",
      "metadata": {
        "id": "3JSvPQJjIq9D"
      },
      "source": [
        "#One Hot Coding:\n",
        "data = pd.get_dummies(data, columns=['Item_Fat_Content','Outlet_Location_Type','Outlet_Size','Outlet_Type',\n",
        "                              'Item_Type_Combined','Outlet'])"
      ],
      "execution_count": 64,
      "outputs": []
    },
    {
      "cell_type": "code",
      "metadata": {
        "id": "4rjNtDU_Iv_K",
        "outputId": "dcff3b35-f7c8-48a6-dbf2-192eae85a723",
        "colab": {
          "base_uri": "https://localhost:8080/",
          "height": 646
        }
      },
      "source": [
        "data.dtypes"
      ],
      "execution_count": 65,
      "outputs": [
        {
          "output_type": "execute_result",
          "data": {
            "text/plain": [
              "Item_Identifier               object\n",
              "Item_Weight                  float64\n",
              "Item_Visibility              float64\n",
              "Item_Type                     object\n",
              "Item_MRP                     float64\n",
              "Outlet_Identifier             object\n",
              "Outlet_Establishment_Year      int64\n",
              "Item_Outlet_Sales            float64\n",
              "source                        object\n",
              "Outlet_Years                   int64\n",
              "Item_Fat_Content_0             uint8\n",
              "Item_Fat_Content_1             uint8\n",
              "Outlet_Location_Type_0         uint8\n",
              "Outlet_Location_Type_1         uint8\n",
              "Outlet_Location_Type_2         uint8\n",
              "Outlet_Size_0                  uint8\n",
              "Outlet_Size_1                  uint8\n",
              "Outlet_Size_2                  uint8\n",
              "Outlet_Size_3                  uint8\n",
              "Outlet_Type_0                  uint8\n",
              "Outlet_Type_1                  uint8\n",
              "Outlet_Type_2                  uint8\n",
              "Outlet_Type_3                  uint8\n",
              "Item_Type_Combined_0           uint8\n",
              "Item_Type_Combined_1           uint8\n",
              "Item_Type_Combined_2           uint8\n",
              "Outlet_0                       uint8\n",
              "Outlet_1                       uint8\n",
              "Outlet_2                       uint8\n",
              "Outlet_3                       uint8\n",
              "Outlet_4                       uint8\n",
              "Outlet_5                       uint8\n",
              "Outlet_6                       uint8\n",
              "Outlet_7                       uint8\n",
              "Outlet_8                       uint8\n",
              "Outlet_9                       uint8\n",
              "dtype: object"
            ]
          },
          "metadata": {
            "tags": []
          },
          "execution_count": 65
        }
      ]
    },
    {
      "cell_type": "code",
      "metadata": {
        "id": "qI7i5v0iB9pL",
        "outputId": "ffdcf541-7db6-4bf6-9825-e89aae922187",
        "colab": {
          "base_uri": "https://localhost:8080/",
          "height": 272
        }
      },
      "source": [
        "data.head()"
      ],
      "execution_count": 66,
      "outputs": [
        {
          "output_type": "execute_result",
          "data": {
            "text/html": [
              "<div>\n",
              "<style scoped>\n",
              "    .dataframe tbody tr th:only-of-type {\n",
              "        vertical-align: middle;\n",
              "    }\n",
              "\n",
              "    .dataframe tbody tr th {\n",
              "        vertical-align: top;\n",
              "    }\n",
              "\n",
              "    .dataframe thead th {\n",
              "        text-align: right;\n",
              "    }\n",
              "</style>\n",
              "<table border=\"1\" class=\"dataframe\">\n",
              "  <thead>\n",
              "    <tr style=\"text-align: right;\">\n",
              "      <th></th>\n",
              "      <th>Item_Identifier</th>\n",
              "      <th>Item_Weight</th>\n",
              "      <th>Item_Visibility</th>\n",
              "      <th>Item_Type</th>\n",
              "      <th>Item_MRP</th>\n",
              "      <th>Outlet_Identifier</th>\n",
              "      <th>Outlet_Establishment_Year</th>\n",
              "      <th>Item_Outlet_Sales</th>\n",
              "      <th>source</th>\n",
              "      <th>Outlet_Years</th>\n",
              "      <th>Item_Fat_Content_0</th>\n",
              "      <th>Item_Fat_Content_1</th>\n",
              "      <th>Outlet_Location_Type_0</th>\n",
              "      <th>Outlet_Location_Type_1</th>\n",
              "      <th>Outlet_Location_Type_2</th>\n",
              "      <th>Outlet_Size_0</th>\n",
              "      <th>Outlet_Size_1</th>\n",
              "      <th>Outlet_Size_2</th>\n",
              "      <th>Outlet_Size_3</th>\n",
              "      <th>Outlet_Type_0</th>\n",
              "      <th>Outlet_Type_1</th>\n",
              "      <th>Outlet_Type_2</th>\n",
              "      <th>Outlet_Type_3</th>\n",
              "      <th>Item_Type_Combined_0</th>\n",
              "      <th>Item_Type_Combined_1</th>\n",
              "      <th>Item_Type_Combined_2</th>\n",
              "      <th>Outlet_0</th>\n",
              "      <th>Outlet_1</th>\n",
              "      <th>Outlet_2</th>\n",
              "      <th>Outlet_3</th>\n",
              "      <th>Outlet_4</th>\n",
              "      <th>Outlet_5</th>\n",
              "      <th>Outlet_6</th>\n",
              "      <th>Outlet_7</th>\n",
              "      <th>Outlet_8</th>\n",
              "      <th>Outlet_9</th>\n",
              "    </tr>\n",
              "    <tr>\n",
              "      <th>Outlet_Establishment_Year</th>\n",
              "      <th></th>\n",
              "      <th></th>\n",
              "      <th></th>\n",
              "      <th></th>\n",
              "      <th></th>\n",
              "      <th></th>\n",
              "      <th></th>\n",
              "      <th></th>\n",
              "      <th></th>\n",
              "      <th></th>\n",
              "      <th></th>\n",
              "      <th></th>\n",
              "      <th></th>\n",
              "      <th></th>\n",
              "      <th></th>\n",
              "      <th></th>\n",
              "      <th></th>\n",
              "      <th></th>\n",
              "      <th></th>\n",
              "      <th></th>\n",
              "      <th></th>\n",
              "      <th></th>\n",
              "      <th></th>\n",
              "      <th></th>\n",
              "      <th></th>\n",
              "      <th></th>\n",
              "      <th></th>\n",
              "      <th></th>\n",
              "      <th></th>\n",
              "      <th></th>\n",
              "      <th></th>\n",
              "      <th></th>\n",
              "      <th></th>\n",
              "      <th></th>\n",
              "      <th></th>\n",
              "      <th></th>\n",
              "    </tr>\n",
              "  </thead>\n",
              "  <tbody>\n",
              "    <tr>\n",
              "      <th>1999</th>\n",
              "      <td>FDA15</td>\n",
              "      <td>9.30</td>\n",
              "      <td>0.016047</td>\n",
              "      <td>Dairy</td>\n",
              "      <td>249.8092</td>\n",
              "      <td>OUT049</td>\n",
              "      <td>1999</td>\n",
              "      <td>3735.1380</td>\n",
              "      <td>train</td>\n",
              "      <td>10</td>\n",
              "      <td>1</td>\n",
              "      <td>0</td>\n",
              "      <td>1</td>\n",
              "      <td>0</td>\n",
              "      <td>0</td>\n",
              "      <td>0</td>\n",
              "      <td>1</td>\n",
              "      <td>0</td>\n",
              "      <td>0</td>\n",
              "      <td>0</td>\n",
              "      <td>1</td>\n",
              "      <td>0</td>\n",
              "      <td>0</td>\n",
              "      <td>0</td>\n",
              "      <td>1</td>\n",
              "      <td>0</td>\n",
              "      <td>0</td>\n",
              "      <td>0</td>\n",
              "      <td>0</td>\n",
              "      <td>0</td>\n",
              "      <td>0</td>\n",
              "      <td>0</td>\n",
              "      <td>0</td>\n",
              "      <td>0</td>\n",
              "      <td>0</td>\n",
              "      <td>1</td>\n",
              "    </tr>\n",
              "    <tr>\n",
              "      <th>2009</th>\n",
              "      <td>DRC01</td>\n",
              "      <td>5.92</td>\n",
              "      <td>0.019278</td>\n",
              "      <td>Soft Drinks</td>\n",
              "      <td>48.2692</td>\n",
              "      <td>OUT018</td>\n",
              "      <td>2009</td>\n",
              "      <td>443.4228</td>\n",
              "      <td>train</td>\n",
              "      <td>0</td>\n",
              "      <td>0</td>\n",
              "      <td>1</td>\n",
              "      <td>0</td>\n",
              "      <td>0</td>\n",
              "      <td>1</td>\n",
              "      <td>0</td>\n",
              "      <td>1</td>\n",
              "      <td>0</td>\n",
              "      <td>0</td>\n",
              "      <td>0</td>\n",
              "      <td>0</td>\n",
              "      <td>1</td>\n",
              "      <td>0</td>\n",
              "      <td>1</td>\n",
              "      <td>0</td>\n",
              "      <td>0</td>\n",
              "      <td>0</td>\n",
              "      <td>0</td>\n",
              "      <td>0</td>\n",
              "      <td>1</td>\n",
              "      <td>0</td>\n",
              "      <td>0</td>\n",
              "      <td>0</td>\n",
              "      <td>0</td>\n",
              "      <td>0</td>\n",
              "      <td>0</td>\n",
              "    </tr>\n",
              "    <tr>\n",
              "      <th>1999</th>\n",
              "      <td>FDN15</td>\n",
              "      <td>17.50</td>\n",
              "      <td>0.016760</td>\n",
              "      <td>Meat</td>\n",
              "      <td>141.6180</td>\n",
              "      <td>OUT049</td>\n",
              "      <td>1999</td>\n",
              "      <td>2097.2700</td>\n",
              "      <td>train</td>\n",
              "      <td>10</td>\n",
              "      <td>1</td>\n",
              "      <td>0</td>\n",
              "      <td>1</td>\n",
              "      <td>0</td>\n",
              "      <td>0</td>\n",
              "      <td>0</td>\n",
              "      <td>1</td>\n",
              "      <td>0</td>\n",
              "      <td>0</td>\n",
              "      <td>0</td>\n",
              "      <td>1</td>\n",
              "      <td>0</td>\n",
              "      <td>0</td>\n",
              "      <td>0</td>\n",
              "      <td>1</td>\n",
              "      <td>0</td>\n",
              "      <td>0</td>\n",
              "      <td>0</td>\n",
              "      <td>0</td>\n",
              "      <td>0</td>\n",
              "      <td>0</td>\n",
              "      <td>0</td>\n",
              "      <td>0</td>\n",
              "      <td>0</td>\n",
              "      <td>0</td>\n",
              "      <td>1</td>\n",
              "    </tr>\n",
              "    <tr>\n",
              "      <th>1998</th>\n",
              "      <td>FDX07</td>\n",
              "      <td>19.20</td>\n",
              "      <td>0.017834</td>\n",
              "      <td>Fruits and Vegetables</td>\n",
              "      <td>182.0950</td>\n",
              "      <td>OUT010</td>\n",
              "      <td>1998</td>\n",
              "      <td>732.3800</td>\n",
              "      <td>train</td>\n",
              "      <td>11</td>\n",
              "      <td>0</td>\n",
              "      <td>1</td>\n",
              "      <td>0</td>\n",
              "      <td>0</td>\n",
              "      <td>1</td>\n",
              "      <td>0</td>\n",
              "      <td>0</td>\n",
              "      <td>0</td>\n",
              "      <td>1</td>\n",
              "      <td>1</td>\n",
              "      <td>0</td>\n",
              "      <td>0</td>\n",
              "      <td>0</td>\n",
              "      <td>0</td>\n",
              "      <td>1</td>\n",
              "      <td>0</td>\n",
              "      <td>1</td>\n",
              "      <td>0</td>\n",
              "      <td>0</td>\n",
              "      <td>0</td>\n",
              "      <td>0</td>\n",
              "      <td>0</td>\n",
              "      <td>0</td>\n",
              "      <td>0</td>\n",
              "      <td>0</td>\n",
              "      <td>0</td>\n",
              "    </tr>\n",
              "    <tr>\n",
              "      <th>1987</th>\n",
              "      <td>NCD19</td>\n",
              "      <td>8.93</td>\n",
              "      <td>0.009780</td>\n",
              "      <td>Household</td>\n",
              "      <td>53.8614</td>\n",
              "      <td>OUT013</td>\n",
              "      <td>1987</td>\n",
              "      <td>994.7052</td>\n",
              "      <td>train</td>\n",
              "      <td>22</td>\n",
              "      <td>1</td>\n",
              "      <td>0</td>\n",
              "      <td>0</td>\n",
              "      <td>0</td>\n",
              "      <td>1</td>\n",
              "      <td>1</td>\n",
              "      <td>0</td>\n",
              "      <td>0</td>\n",
              "      <td>0</td>\n",
              "      <td>0</td>\n",
              "      <td>1</td>\n",
              "      <td>0</td>\n",
              "      <td>0</td>\n",
              "      <td>0</td>\n",
              "      <td>0</td>\n",
              "      <td>1</td>\n",
              "      <td>0</td>\n",
              "      <td>1</td>\n",
              "      <td>0</td>\n",
              "      <td>0</td>\n",
              "      <td>0</td>\n",
              "      <td>0</td>\n",
              "      <td>0</td>\n",
              "      <td>0</td>\n",
              "      <td>0</td>\n",
              "      <td>0</td>\n",
              "    </tr>\n",
              "  </tbody>\n",
              "</table>\n",
              "</div>"
            ],
            "text/plain": [
              "                          Item_Identifier  Item_Weight  ...  Outlet_8 Outlet_9\n",
              "Outlet_Establishment_Year                               ...                   \n",
              "1999                                FDA15         9.30  ...         0        1\n",
              "2009                                DRC01         5.92  ...         0        0\n",
              "1999                                FDN15        17.50  ...         0        1\n",
              "1998                                FDX07        19.20  ...         0        0\n",
              "1987                                NCD19         8.93  ...         0        0\n",
              "\n",
              "[5 rows x 36 columns]"
            ]
          },
          "metadata": {
            "tags": []
          },
          "execution_count": 66
        }
      ]
    },
    {
      "cell_type": "code",
      "metadata": {
        "id": "D0OmjdfcJcpL",
        "outputId": "8a448999-35ed-4d93-e7d4-05ae769a4f1d",
        "colab": {
          "base_uri": "https://localhost:8080/",
          "height": 122
        }
      },
      "source": [
        "#Drop the columns which have been converted to different types:\n",
        "data.drop(['Item_Type','Outlet_Establishment_Year'],axis=1,inplace=True)\n",
        "\n",
        "#Divide into test and train:\n",
        "train = data.loc[data['source']==\"train\"]\n",
        "test = data.loc[data['source']==\"test\"]\n",
        "\n",
        "#Drop unnecessary columns:\n",
        "test.drop(['Item_Outlet_Sales','source'],axis=1,inplace=True)\n",
        "train.drop(['source'],axis=1,inplace=True)\n",
        "\n",
        "#Export files as modified versions:\n",
        "train.to_csv(\"train_modified.csv\",index=False)\n",
        "test.to_csv(\"test_modified.csv\",index=False)"
      ],
      "execution_count": 67,
      "outputs": [
        {
          "output_type": "stream",
          "text": [
            "/usr/local/lib/python3.6/dist-packages/pandas/core/frame.py:4169: SettingWithCopyWarning: \n",
            "A value is trying to be set on a copy of a slice from a DataFrame\n",
            "\n",
            "See the caveats in the documentation: https://pandas.pydata.org/pandas-docs/stable/user_guide/indexing.html#returning-a-view-versus-a-copy\n",
            "  errors=errors,\n"
          ],
          "name": "stderr"
        }
      ]
    },
    {
      "cell_type": "code",
      "metadata": {
        "id": "Ph7LRWO1Djfp"
      },
      "source": [
        "#Define target and ID columns:\n",
        "target = 'Item_Outlet_Sales'\n",
        "IDcol = ['Item_Identifier','Outlet_Identifier']"
      ],
      "execution_count": 68,
      "outputs": []
    },
    {
      "cell_type": "code",
      "metadata": {
        "id": "ZzONm6zEMeIs"
      },
      "source": [
        "ntrain=pd.read_csv('train_modified.csv')\n",
        "ntest=pd.read_csv('test_modified.csv')"
      ],
      "execution_count": 69,
      "outputs": []
    },
    {
      "cell_type": "code",
      "metadata": {
        "id": "fUkHnyqvLo4W",
        "outputId": "f6cda0ac-ac87-4ce1-aeb3-02ec47d4e9b9",
        "colab": {
          "base_uri": "https://localhost:8080/",
          "height": 34
        }
      },
      "source": [
        "(ntrain.shape),(ntest.shape)"
      ],
      "execution_count": 70,
      "outputs": [
        {
          "output_type": "execute_result",
          "data": {
            "text/plain": [
              "((8523, 33), (5681, 32))"
            ]
          },
          "metadata": {
            "tags": []
          },
          "execution_count": 70
        }
      ]
    },
    {
      "cell_type": "code",
      "metadata": {
        "id": "tDZqbdvtNeDV",
        "outputId": "991e1332-c280-4cfb-f496-69b3d501835a",
        "colab": {
          "base_uri": "https://localhost:8080/",
          "height": 131
        }
      },
      "source": [
        "ntrain.head(2)\n"
      ],
      "execution_count": 71,
      "outputs": [
        {
          "output_type": "execute_result",
          "data": {
            "text/html": [
              "<div>\n",
              "<style scoped>\n",
              "    .dataframe tbody tr th:only-of-type {\n",
              "        vertical-align: middle;\n",
              "    }\n",
              "\n",
              "    .dataframe tbody tr th {\n",
              "        vertical-align: top;\n",
              "    }\n",
              "\n",
              "    .dataframe thead th {\n",
              "        text-align: right;\n",
              "    }\n",
              "</style>\n",
              "<table border=\"1\" class=\"dataframe\">\n",
              "  <thead>\n",
              "    <tr style=\"text-align: right;\">\n",
              "      <th></th>\n",
              "      <th>Item_Identifier</th>\n",
              "      <th>Item_Weight</th>\n",
              "      <th>Item_Visibility</th>\n",
              "      <th>Item_MRP</th>\n",
              "      <th>Outlet_Identifier</th>\n",
              "      <th>Item_Outlet_Sales</th>\n",
              "      <th>Outlet_Years</th>\n",
              "      <th>Item_Fat_Content_0</th>\n",
              "      <th>Item_Fat_Content_1</th>\n",
              "      <th>Outlet_Location_Type_0</th>\n",
              "      <th>Outlet_Location_Type_1</th>\n",
              "      <th>Outlet_Location_Type_2</th>\n",
              "      <th>Outlet_Size_0</th>\n",
              "      <th>Outlet_Size_1</th>\n",
              "      <th>Outlet_Size_2</th>\n",
              "      <th>Outlet_Size_3</th>\n",
              "      <th>Outlet_Type_0</th>\n",
              "      <th>Outlet_Type_1</th>\n",
              "      <th>Outlet_Type_2</th>\n",
              "      <th>Outlet_Type_3</th>\n",
              "      <th>Item_Type_Combined_0</th>\n",
              "      <th>Item_Type_Combined_1</th>\n",
              "      <th>Item_Type_Combined_2</th>\n",
              "      <th>Outlet_0</th>\n",
              "      <th>Outlet_1</th>\n",
              "      <th>Outlet_2</th>\n",
              "      <th>Outlet_3</th>\n",
              "      <th>Outlet_4</th>\n",
              "      <th>Outlet_5</th>\n",
              "      <th>Outlet_6</th>\n",
              "      <th>Outlet_7</th>\n",
              "      <th>Outlet_8</th>\n",
              "      <th>Outlet_9</th>\n",
              "    </tr>\n",
              "  </thead>\n",
              "  <tbody>\n",
              "    <tr>\n",
              "      <th>0</th>\n",
              "      <td>FDA15</td>\n",
              "      <td>9.30</td>\n",
              "      <td>0.016047</td>\n",
              "      <td>249.8092</td>\n",
              "      <td>OUT049</td>\n",
              "      <td>3735.1380</td>\n",
              "      <td>10</td>\n",
              "      <td>1</td>\n",
              "      <td>0</td>\n",
              "      <td>1</td>\n",
              "      <td>0</td>\n",
              "      <td>0</td>\n",
              "      <td>0</td>\n",
              "      <td>1</td>\n",
              "      <td>0</td>\n",
              "      <td>0</td>\n",
              "      <td>0</td>\n",
              "      <td>1</td>\n",
              "      <td>0</td>\n",
              "      <td>0</td>\n",
              "      <td>0</td>\n",
              "      <td>1</td>\n",
              "      <td>0</td>\n",
              "      <td>0</td>\n",
              "      <td>0</td>\n",
              "      <td>0</td>\n",
              "      <td>0</td>\n",
              "      <td>0</td>\n",
              "      <td>0</td>\n",
              "      <td>0</td>\n",
              "      <td>0</td>\n",
              "      <td>0</td>\n",
              "      <td>1</td>\n",
              "    </tr>\n",
              "    <tr>\n",
              "      <th>1</th>\n",
              "      <td>DRC01</td>\n",
              "      <td>5.92</td>\n",
              "      <td>0.019278</td>\n",
              "      <td>48.2692</td>\n",
              "      <td>OUT018</td>\n",
              "      <td>443.4228</td>\n",
              "      <td>0</td>\n",
              "      <td>0</td>\n",
              "      <td>1</td>\n",
              "      <td>0</td>\n",
              "      <td>0</td>\n",
              "      <td>1</td>\n",
              "      <td>0</td>\n",
              "      <td>1</td>\n",
              "      <td>0</td>\n",
              "      <td>0</td>\n",
              "      <td>0</td>\n",
              "      <td>0</td>\n",
              "      <td>1</td>\n",
              "      <td>0</td>\n",
              "      <td>1</td>\n",
              "      <td>0</td>\n",
              "      <td>0</td>\n",
              "      <td>0</td>\n",
              "      <td>0</td>\n",
              "      <td>0</td>\n",
              "      <td>1</td>\n",
              "      <td>0</td>\n",
              "      <td>0</td>\n",
              "      <td>0</td>\n",
              "      <td>0</td>\n",
              "      <td>0</td>\n",
              "      <td>0</td>\n",
              "    </tr>\n",
              "  </tbody>\n",
              "</table>\n",
              "</div>"
            ],
            "text/plain": [
              "  Item_Identifier  Item_Weight  Item_Visibility  ...  Outlet_7 Outlet_8  Outlet_9\n",
              "0           FDA15         9.30         0.016047  ...         0        0         1\n",
              "1           DRC01         5.92         0.019278  ...         0        0         0\n",
              "\n",
              "[2 rows x 33 columns]"
            ]
          },
          "metadata": {
            "tags": []
          },
          "execution_count": 71
        }
      ]
    },
    {
      "cell_type": "code",
      "metadata": {
        "id": "VxJedy2rNwkK",
        "outputId": "577c2a82-a02b-4122-e99f-4241cf552932",
        "colab": {
          "base_uri": "https://localhost:8080/",
          "height": 131
        }
      },
      "source": [
        "ntest.head(2)"
      ],
      "execution_count": 72,
      "outputs": [
        {
          "output_type": "execute_result",
          "data": {
            "text/html": [
              "<div>\n",
              "<style scoped>\n",
              "    .dataframe tbody tr th:only-of-type {\n",
              "        vertical-align: middle;\n",
              "    }\n",
              "\n",
              "    .dataframe tbody tr th {\n",
              "        vertical-align: top;\n",
              "    }\n",
              "\n",
              "    .dataframe thead th {\n",
              "        text-align: right;\n",
              "    }\n",
              "</style>\n",
              "<table border=\"1\" class=\"dataframe\">\n",
              "  <thead>\n",
              "    <tr style=\"text-align: right;\">\n",
              "      <th></th>\n",
              "      <th>Item_Identifier</th>\n",
              "      <th>Item_Weight</th>\n",
              "      <th>Item_Visibility</th>\n",
              "      <th>Item_MRP</th>\n",
              "      <th>Outlet_Identifier</th>\n",
              "      <th>Outlet_Years</th>\n",
              "      <th>Item_Fat_Content_0</th>\n",
              "      <th>Item_Fat_Content_1</th>\n",
              "      <th>Outlet_Location_Type_0</th>\n",
              "      <th>Outlet_Location_Type_1</th>\n",
              "      <th>Outlet_Location_Type_2</th>\n",
              "      <th>Outlet_Size_0</th>\n",
              "      <th>Outlet_Size_1</th>\n",
              "      <th>Outlet_Size_2</th>\n",
              "      <th>Outlet_Size_3</th>\n",
              "      <th>Outlet_Type_0</th>\n",
              "      <th>Outlet_Type_1</th>\n",
              "      <th>Outlet_Type_2</th>\n",
              "      <th>Outlet_Type_3</th>\n",
              "      <th>Item_Type_Combined_0</th>\n",
              "      <th>Item_Type_Combined_1</th>\n",
              "      <th>Item_Type_Combined_2</th>\n",
              "      <th>Outlet_0</th>\n",
              "      <th>Outlet_1</th>\n",
              "      <th>Outlet_2</th>\n",
              "      <th>Outlet_3</th>\n",
              "      <th>Outlet_4</th>\n",
              "      <th>Outlet_5</th>\n",
              "      <th>Outlet_6</th>\n",
              "      <th>Outlet_7</th>\n",
              "      <th>Outlet_8</th>\n",
              "      <th>Outlet_9</th>\n",
              "    </tr>\n",
              "  </thead>\n",
              "  <tbody>\n",
              "    <tr>\n",
              "      <th>0</th>\n",
              "      <td>FDW58</td>\n",
              "      <td>20.75</td>\n",
              "      <td>0.007565</td>\n",
              "      <td>107.8622</td>\n",
              "      <td>OUT049</td>\n",
              "      <td>10</td>\n",
              "      <td>1</td>\n",
              "      <td>0</td>\n",
              "      <td>1</td>\n",
              "      <td>0</td>\n",
              "      <td>0</td>\n",
              "      <td>0</td>\n",
              "      <td>1</td>\n",
              "      <td>0</td>\n",
              "      <td>0</td>\n",
              "      <td>0</td>\n",
              "      <td>1</td>\n",
              "      <td>0</td>\n",
              "      <td>0</td>\n",
              "      <td>0</td>\n",
              "      <td>1</td>\n",
              "      <td>0</td>\n",
              "      <td>0</td>\n",
              "      <td>0</td>\n",
              "      <td>0</td>\n",
              "      <td>0</td>\n",
              "      <td>0</td>\n",
              "      <td>0</td>\n",
              "      <td>0</td>\n",
              "      <td>0</td>\n",
              "      <td>0</td>\n",
              "      <td>1</td>\n",
              "    </tr>\n",
              "    <tr>\n",
              "      <th>1</th>\n",
              "      <td>FDW14</td>\n",
              "      <td>8.30</td>\n",
              "      <td>0.038428</td>\n",
              "      <td>87.3198</td>\n",
              "      <td>OUT017</td>\n",
              "      <td>2</td>\n",
              "      <td>0</td>\n",
              "      <td>1</td>\n",
              "      <td>0</td>\n",
              "      <td>1</td>\n",
              "      <td>0</td>\n",
              "      <td>0</td>\n",
              "      <td>0</td>\n",
              "      <td>1</td>\n",
              "      <td>0</td>\n",
              "      <td>0</td>\n",
              "      <td>1</td>\n",
              "      <td>0</td>\n",
              "      <td>0</td>\n",
              "      <td>0</td>\n",
              "      <td>1</td>\n",
              "      <td>0</td>\n",
              "      <td>0</td>\n",
              "      <td>0</td>\n",
              "      <td>1</td>\n",
              "      <td>0</td>\n",
              "      <td>0</td>\n",
              "      <td>0</td>\n",
              "      <td>0</td>\n",
              "      <td>0</td>\n",
              "      <td>0</td>\n",
              "      <td>0</td>\n",
              "    </tr>\n",
              "  </tbody>\n",
              "</table>\n",
              "</div>"
            ],
            "text/plain": [
              "  Item_Identifier  Item_Weight  Item_Visibility  ...  Outlet_7 Outlet_8  Outlet_9\n",
              "0           FDW58        20.75         0.007565  ...         0        0         1\n",
              "1           FDW14         8.30         0.038428  ...         0        0         0\n",
              "\n",
              "[2 rows x 32 columns]"
            ]
          },
          "metadata": {
            "tags": []
          },
          "execution_count": 72
        }
      ]
    },
    {
      "cell_type": "code",
      "metadata": {
        "id": "VkZbI0cwKqZU",
        "outputId": "e618b954-28b8-439f-f3a2-4e391fb22552",
        "colab": {
          "base_uri": "https://localhost:8080/",
          "height": 224
        }
      },
      "source": [
        "ntrain.drop(axis=1,columns=['Item_Identifier','Outlet_Identifier'],inplace = True)\n",
        "ntrain.head()"
      ],
      "execution_count": 73,
      "outputs": [
        {
          "output_type": "execute_result",
          "data": {
            "text/html": [
              "<div>\n",
              "<style scoped>\n",
              "    .dataframe tbody tr th:only-of-type {\n",
              "        vertical-align: middle;\n",
              "    }\n",
              "\n",
              "    .dataframe tbody tr th {\n",
              "        vertical-align: top;\n",
              "    }\n",
              "\n",
              "    .dataframe thead th {\n",
              "        text-align: right;\n",
              "    }\n",
              "</style>\n",
              "<table border=\"1\" class=\"dataframe\">\n",
              "  <thead>\n",
              "    <tr style=\"text-align: right;\">\n",
              "      <th></th>\n",
              "      <th>Item_Weight</th>\n",
              "      <th>Item_Visibility</th>\n",
              "      <th>Item_MRP</th>\n",
              "      <th>Item_Outlet_Sales</th>\n",
              "      <th>Outlet_Years</th>\n",
              "      <th>Item_Fat_Content_0</th>\n",
              "      <th>Item_Fat_Content_1</th>\n",
              "      <th>Outlet_Location_Type_0</th>\n",
              "      <th>Outlet_Location_Type_1</th>\n",
              "      <th>Outlet_Location_Type_2</th>\n",
              "      <th>Outlet_Size_0</th>\n",
              "      <th>Outlet_Size_1</th>\n",
              "      <th>Outlet_Size_2</th>\n",
              "      <th>Outlet_Size_3</th>\n",
              "      <th>Outlet_Type_0</th>\n",
              "      <th>Outlet_Type_1</th>\n",
              "      <th>Outlet_Type_2</th>\n",
              "      <th>Outlet_Type_3</th>\n",
              "      <th>Item_Type_Combined_0</th>\n",
              "      <th>Item_Type_Combined_1</th>\n",
              "      <th>Item_Type_Combined_2</th>\n",
              "      <th>Outlet_0</th>\n",
              "      <th>Outlet_1</th>\n",
              "      <th>Outlet_2</th>\n",
              "      <th>Outlet_3</th>\n",
              "      <th>Outlet_4</th>\n",
              "      <th>Outlet_5</th>\n",
              "      <th>Outlet_6</th>\n",
              "      <th>Outlet_7</th>\n",
              "      <th>Outlet_8</th>\n",
              "      <th>Outlet_9</th>\n",
              "    </tr>\n",
              "  </thead>\n",
              "  <tbody>\n",
              "    <tr>\n",
              "      <th>0</th>\n",
              "      <td>9.30</td>\n",
              "      <td>0.016047</td>\n",
              "      <td>249.8092</td>\n",
              "      <td>3735.1380</td>\n",
              "      <td>10</td>\n",
              "      <td>1</td>\n",
              "      <td>0</td>\n",
              "      <td>1</td>\n",
              "      <td>0</td>\n",
              "      <td>0</td>\n",
              "      <td>0</td>\n",
              "      <td>1</td>\n",
              "      <td>0</td>\n",
              "      <td>0</td>\n",
              "      <td>0</td>\n",
              "      <td>1</td>\n",
              "      <td>0</td>\n",
              "      <td>0</td>\n",
              "      <td>0</td>\n",
              "      <td>1</td>\n",
              "      <td>0</td>\n",
              "      <td>0</td>\n",
              "      <td>0</td>\n",
              "      <td>0</td>\n",
              "      <td>0</td>\n",
              "      <td>0</td>\n",
              "      <td>0</td>\n",
              "      <td>0</td>\n",
              "      <td>0</td>\n",
              "      <td>0</td>\n",
              "      <td>1</td>\n",
              "    </tr>\n",
              "    <tr>\n",
              "      <th>1</th>\n",
              "      <td>5.92</td>\n",
              "      <td>0.019278</td>\n",
              "      <td>48.2692</td>\n",
              "      <td>443.4228</td>\n",
              "      <td>0</td>\n",
              "      <td>0</td>\n",
              "      <td>1</td>\n",
              "      <td>0</td>\n",
              "      <td>0</td>\n",
              "      <td>1</td>\n",
              "      <td>0</td>\n",
              "      <td>1</td>\n",
              "      <td>0</td>\n",
              "      <td>0</td>\n",
              "      <td>0</td>\n",
              "      <td>0</td>\n",
              "      <td>1</td>\n",
              "      <td>0</td>\n",
              "      <td>1</td>\n",
              "      <td>0</td>\n",
              "      <td>0</td>\n",
              "      <td>0</td>\n",
              "      <td>0</td>\n",
              "      <td>0</td>\n",
              "      <td>1</td>\n",
              "      <td>0</td>\n",
              "      <td>0</td>\n",
              "      <td>0</td>\n",
              "      <td>0</td>\n",
              "      <td>0</td>\n",
              "      <td>0</td>\n",
              "    </tr>\n",
              "    <tr>\n",
              "      <th>2</th>\n",
              "      <td>17.50</td>\n",
              "      <td>0.016760</td>\n",
              "      <td>141.6180</td>\n",
              "      <td>2097.2700</td>\n",
              "      <td>10</td>\n",
              "      <td>1</td>\n",
              "      <td>0</td>\n",
              "      <td>1</td>\n",
              "      <td>0</td>\n",
              "      <td>0</td>\n",
              "      <td>0</td>\n",
              "      <td>1</td>\n",
              "      <td>0</td>\n",
              "      <td>0</td>\n",
              "      <td>0</td>\n",
              "      <td>1</td>\n",
              "      <td>0</td>\n",
              "      <td>0</td>\n",
              "      <td>0</td>\n",
              "      <td>1</td>\n",
              "      <td>0</td>\n",
              "      <td>0</td>\n",
              "      <td>0</td>\n",
              "      <td>0</td>\n",
              "      <td>0</td>\n",
              "      <td>0</td>\n",
              "      <td>0</td>\n",
              "      <td>0</td>\n",
              "      <td>0</td>\n",
              "      <td>0</td>\n",
              "      <td>1</td>\n",
              "    </tr>\n",
              "    <tr>\n",
              "      <th>3</th>\n",
              "      <td>19.20</td>\n",
              "      <td>0.017834</td>\n",
              "      <td>182.0950</td>\n",
              "      <td>732.3800</td>\n",
              "      <td>11</td>\n",
              "      <td>0</td>\n",
              "      <td>1</td>\n",
              "      <td>0</td>\n",
              "      <td>0</td>\n",
              "      <td>1</td>\n",
              "      <td>0</td>\n",
              "      <td>0</td>\n",
              "      <td>0</td>\n",
              "      <td>1</td>\n",
              "      <td>1</td>\n",
              "      <td>0</td>\n",
              "      <td>0</td>\n",
              "      <td>0</td>\n",
              "      <td>0</td>\n",
              "      <td>1</td>\n",
              "      <td>0</td>\n",
              "      <td>1</td>\n",
              "      <td>0</td>\n",
              "      <td>0</td>\n",
              "      <td>0</td>\n",
              "      <td>0</td>\n",
              "      <td>0</td>\n",
              "      <td>0</td>\n",
              "      <td>0</td>\n",
              "      <td>0</td>\n",
              "      <td>0</td>\n",
              "    </tr>\n",
              "    <tr>\n",
              "      <th>4</th>\n",
              "      <td>8.93</td>\n",
              "      <td>0.009780</td>\n",
              "      <td>53.8614</td>\n",
              "      <td>994.7052</td>\n",
              "      <td>22</td>\n",
              "      <td>1</td>\n",
              "      <td>0</td>\n",
              "      <td>0</td>\n",
              "      <td>0</td>\n",
              "      <td>1</td>\n",
              "      <td>1</td>\n",
              "      <td>0</td>\n",
              "      <td>0</td>\n",
              "      <td>0</td>\n",
              "      <td>0</td>\n",
              "      <td>1</td>\n",
              "      <td>0</td>\n",
              "      <td>0</td>\n",
              "      <td>0</td>\n",
              "      <td>0</td>\n",
              "      <td>1</td>\n",
              "      <td>0</td>\n",
              "      <td>1</td>\n",
              "      <td>0</td>\n",
              "      <td>0</td>\n",
              "      <td>0</td>\n",
              "      <td>0</td>\n",
              "      <td>0</td>\n",
              "      <td>0</td>\n",
              "      <td>0</td>\n",
              "      <td>0</td>\n",
              "    </tr>\n",
              "  </tbody>\n",
              "</table>\n",
              "</div>"
            ],
            "text/plain": [
              "   Item_Weight  Item_Visibility  Item_MRP  ...  Outlet_7  Outlet_8  Outlet_9\n",
              "0         9.30         0.016047  249.8092  ...         0         0         1\n",
              "1         5.92         0.019278   48.2692  ...         0         0         0\n",
              "2        17.50         0.016760  141.6180  ...         0         0         1\n",
              "3        19.20         0.017834  182.0950  ...         0         0         0\n",
              "4         8.93         0.009780   53.8614  ...         0         0         0\n",
              "\n",
              "[5 rows x 31 columns]"
            ]
          },
          "metadata": {
            "tags": []
          },
          "execution_count": 73
        }
      ]
    },
    {
      "cell_type": "code",
      "metadata": {
        "id": "c3X7UlF0PY5z",
        "outputId": "f0e5a315-eef3-4bdb-d90d-4657a62ab543",
        "colab": {
          "base_uri": "https://localhost:8080/",
          "height": 34
        }
      },
      "source": [
        "#preparing the Validation data \n",
        "x=ntrain.drop('Item_Outlet_Sales',axis=1)\n",
        "y=ntrain['Item_Outlet_Sales']\n",
        "test.shape"
      ],
      "execution_count": 80,
      "outputs": [
        {
          "output_type": "execute_result",
          "data": {
            "text/plain": [
              "(5681, 32)"
            ]
          },
          "metadata": {
            "tags": []
          },
          "execution_count": 80
        }
      ]
    },
    {
      "cell_type": "markdown",
      "metadata": {
        "id": "3tJpmhNHPB3_"
      },
      "source": [
        "### splitting the data"
      ]
    },
    {
      "cell_type": "code",
      "metadata": {
        "id": "Yt_9rbMTPFaO"
      },
      "source": [
        "from sklearn.model_selection import train_test_split\n",
        "x_train, x_test, y_train, y_test = train_test_split(x,y,test_size = .25, random_state = 1)"
      ],
      "execution_count": 82,
      "outputs": []
    },
    {
      "cell_type": "code",
      "metadata": {
        "id": "aHx3EbP6QJvV"
      },
      "source": [
        "# Feature Scaling\n",
        "from sklearn.preprocessing import StandardScaler\n",
        "sc = StandardScaler()\n",
        "x_train = sc.fit_transform(x_train)\n",
        "x_test = sc.transform(x_test)"
      ],
      "execution_count": 83,
      "outputs": []
    },
    {
      "cell_type": "code",
      "metadata": {
        "id": "3uv5opHOPftT"
      },
      "source": [
        "from keras.models import Sequential\n",
        "from keras.layers import Dense,Activation,Flatten,Dropout"
      ],
      "execution_count": 84,
      "outputs": []
    },
    {
      "cell_type": "code",
      "metadata": {
        "id": "xCFB_KwNRe7R"
      },
      "source": [
        "model = Sequential()"
      ],
      "execution_count": 85,
      "outputs": []
    },
    {
      "cell_type": "code",
      "metadata": {
        "id": "y32xFWoBUMqb"
      },
      "source": [
        "#Input Layer\n",
        "model.add(Dense(128,kernel_initializer='normal',input_shape=(x_train.shape[1],),activation='relu'))"
      ],
      "execution_count": 86,
      "outputs": []
    },
    {
      "cell_type": "code",
      "metadata": {
        "id": "4f8R4yQOUTvD"
      },
      "source": [
        "#Hidden Layers\n",
        "model.add(Dense(256,kernel_initializer='normal',activation='relu'))\n",
        "model.add(Dense(256,kernel_initializer='normal',activation='relu'))\n",
        "model.add(Dropout(0.3))\n",
        "model.add(Dense(256,kernel_initializer='normal',activation='relu'))"
      ],
      "execution_count": 87,
      "outputs": []
    },
    {
      "cell_type": "code",
      "metadata": {
        "id": "NqqDaqfHUiwM"
      },
      "source": [
        "#Output Layer\n",
        "model.add(Dense(1,kernel_initializer='normal',activation='linear'))"
      ],
      "execution_count": 88,
      "outputs": []
    },
    {
      "cell_type": "code",
      "metadata": {
        "id": "1sx5_eonUvF-",
        "outputId": "e7dca4f3-7e96-4a59-fb23-a1c6a5517a97",
        "colab": {
          "base_uri": "https://localhost:8080/",
          "height": 357
        }
      },
      "source": [
        "#compile\n",
        "model.compile(optimizer='adam',loss='mean_absolute_error',metrics=['mean_absolute_error'])\n",
        "model.summary()"
      ],
      "execution_count": 89,
      "outputs": [
        {
          "output_type": "stream",
          "text": [
            "Model: \"sequential_1\"\n",
            "_________________________________________________________________\n",
            "Layer (type)                 Output Shape              Param #   \n",
            "=================================================================\n",
            "dense (Dense)                (None, 128)               3968      \n",
            "_________________________________________________________________\n",
            "dense_1 (Dense)              (None, 256)               33024     \n",
            "_________________________________________________________________\n",
            "dense_2 (Dense)              (None, 256)               65792     \n",
            "_________________________________________________________________\n",
            "dropout (Dropout)            (None, 256)               0         \n",
            "_________________________________________________________________\n",
            "dense_3 (Dense)              (None, 256)               65792     \n",
            "_________________________________________________________________\n",
            "dense_4 (Dense)              (None, 1)                 257       \n",
            "=================================================================\n",
            "Total params: 168,833\n",
            "Trainable params: 168,833\n",
            "Non-trainable params: 0\n",
            "_________________________________________________________________\n"
          ],
          "name": "stdout"
        }
      ]
    },
    {
      "cell_type": "code",
      "metadata": {
        "id": "JbKw_5dUU61I",
        "outputId": "e742784f-cfaa-49a0-9e0f-b8bdedd92f5a",
        "colab": {
          "base_uri": "https://localhost:8080/",
          "height": 1000
        }
      },
      "source": [
        "#training\n",
        "model_history=model.fit(x_train,y_train,epochs=200,batch_size=64,validation_split=0.2)"
      ],
      "execution_count": 90,
      "outputs": [
        {
          "output_type": "stream",
          "text": [
            "Epoch 1/200\n",
            "80/80 [==============================] - 1s 7ms/step - loss: 1558.1727 - mean_absolute_error: 1558.1727 - val_loss: 941.2698 - val_mean_absolute_error: 941.2698\n",
            "Epoch 2/200\n",
            "80/80 [==============================] - 0s 5ms/step - loss: 827.9800 - mean_absolute_error: 827.9800 - val_loss: 810.8391 - val_mean_absolute_error: 810.8391\n",
            "Epoch 3/200\n",
            "80/80 [==============================] - 0s 5ms/step - loss: 772.0743 - mean_absolute_error: 772.0743 - val_loss: 811.0688 - val_mean_absolute_error: 811.0688\n",
            "Epoch 4/200\n",
            "80/80 [==============================] - 0s 5ms/step - loss: 762.4506 - mean_absolute_error: 762.4506 - val_loss: 779.6146 - val_mean_absolute_error: 779.6146\n",
            "Epoch 5/200\n",
            "80/80 [==============================] - 0s 5ms/step - loss: 756.4727 - mean_absolute_error: 756.4727 - val_loss: 775.7511 - val_mean_absolute_error: 775.7511\n",
            "Epoch 6/200\n",
            "80/80 [==============================] - 0s 5ms/step - loss: 755.6112 - mean_absolute_error: 755.6112 - val_loss: 770.9553 - val_mean_absolute_error: 770.9553\n",
            "Epoch 7/200\n",
            "80/80 [==============================] - 0s 5ms/step - loss: 754.4606 - mean_absolute_error: 754.4606 - val_loss: 770.9608 - val_mean_absolute_error: 770.9608\n",
            "Epoch 8/200\n",
            "80/80 [==============================] - 0s 5ms/step - loss: 751.5166 - mean_absolute_error: 751.5166 - val_loss: 770.4175 - val_mean_absolute_error: 770.4175\n",
            "Epoch 9/200\n",
            "80/80 [==============================] - 0s 5ms/step - loss: 752.4297 - mean_absolute_error: 752.4297 - val_loss: 770.5550 - val_mean_absolute_error: 770.5550\n",
            "Epoch 10/200\n",
            "80/80 [==============================] - 0s 5ms/step - loss: 748.1501 - mean_absolute_error: 748.1501 - val_loss: 774.3484 - val_mean_absolute_error: 774.3484\n",
            "Epoch 11/200\n",
            "80/80 [==============================] - 0s 5ms/step - loss: 750.4233 - mean_absolute_error: 750.4233 - val_loss: 783.8836 - val_mean_absolute_error: 783.8836\n",
            "Epoch 12/200\n",
            "80/80 [==============================] - 0s 5ms/step - loss: 750.2880 - mean_absolute_error: 750.2880 - val_loss: 774.8439 - val_mean_absolute_error: 774.8439\n",
            "Epoch 13/200\n",
            "80/80 [==============================] - 0s 5ms/step - loss: 748.9984 - mean_absolute_error: 748.9984 - val_loss: 768.0728 - val_mean_absolute_error: 768.0728\n",
            "Epoch 14/200\n",
            "80/80 [==============================] - 0s 5ms/step - loss: 745.2399 - mean_absolute_error: 745.2399 - val_loss: 773.4570 - val_mean_absolute_error: 773.4570\n",
            "Epoch 15/200\n",
            "80/80 [==============================] - 0s 5ms/step - loss: 749.8548 - mean_absolute_error: 749.8548 - val_loss: 775.3807 - val_mean_absolute_error: 775.3807\n",
            "Epoch 16/200\n",
            "80/80 [==============================] - 0s 5ms/step - loss: 745.2877 - mean_absolute_error: 745.2877 - val_loss: 770.2616 - val_mean_absolute_error: 770.2616\n",
            "Epoch 17/200\n",
            "80/80 [==============================] - 0s 5ms/step - loss: 741.9487 - mean_absolute_error: 741.9487 - val_loss: 780.5270 - val_mean_absolute_error: 780.5270\n",
            "Epoch 18/200\n",
            "80/80 [==============================] - 0s 5ms/step - loss: 747.9919 - mean_absolute_error: 747.9919 - val_loss: 770.3097 - val_mean_absolute_error: 770.3097\n",
            "Epoch 19/200\n",
            "80/80 [==============================] - 0s 5ms/step - loss: 749.5215 - mean_absolute_error: 749.5215 - val_loss: 781.0430 - val_mean_absolute_error: 781.0430\n",
            "Epoch 20/200\n",
            "80/80 [==============================] - 0s 5ms/step - loss: 756.7798 - mean_absolute_error: 756.7798 - val_loss: 775.5530 - val_mean_absolute_error: 775.5530\n",
            "Epoch 21/200\n",
            "80/80 [==============================] - 0s 5ms/step - loss: 744.1187 - mean_absolute_error: 744.1187 - val_loss: 775.7657 - val_mean_absolute_error: 775.7657\n",
            "Epoch 22/200\n",
            "80/80 [==============================] - 0s 5ms/step - loss: 743.7756 - mean_absolute_error: 743.7756 - val_loss: 781.9551 - val_mean_absolute_error: 781.9551\n",
            "Epoch 23/200\n",
            "80/80 [==============================] - 0s 5ms/step - loss: 746.3607 - mean_absolute_error: 746.3607 - val_loss: 771.9051 - val_mean_absolute_error: 771.9051\n",
            "Epoch 24/200\n",
            "80/80 [==============================] - 0s 5ms/step - loss: 742.8024 - mean_absolute_error: 742.8024 - val_loss: 779.3041 - val_mean_absolute_error: 779.3041\n",
            "Epoch 25/200\n",
            "80/80 [==============================] - 0s 5ms/step - loss: 754.2086 - mean_absolute_error: 754.2086 - val_loss: 812.9756 - val_mean_absolute_error: 812.9756\n",
            "Epoch 26/200\n",
            "80/80 [==============================] - 0s 5ms/step - loss: 741.5486 - mean_absolute_error: 741.5486 - val_loss: 768.3868 - val_mean_absolute_error: 768.3868\n",
            "Epoch 27/200\n",
            "80/80 [==============================] - 0s 5ms/step - loss: 745.6599 - mean_absolute_error: 745.6599 - val_loss: 775.7272 - val_mean_absolute_error: 775.7272\n",
            "Epoch 28/200\n",
            "80/80 [==============================] - 0s 5ms/step - loss: 750.5483 - mean_absolute_error: 750.5483 - val_loss: 771.3803 - val_mean_absolute_error: 771.3803\n",
            "Epoch 29/200\n",
            "80/80 [==============================] - 0s 5ms/step - loss: 738.2739 - mean_absolute_error: 738.2739 - val_loss: 780.6415 - val_mean_absolute_error: 780.6415\n",
            "Epoch 30/200\n",
            "80/80 [==============================] - 0s 5ms/step - loss: 742.6069 - mean_absolute_error: 742.6069 - val_loss: 774.9366 - val_mean_absolute_error: 774.9366\n",
            "Epoch 31/200\n",
            "80/80 [==============================] - 0s 5ms/step - loss: 741.6884 - mean_absolute_error: 741.6884 - val_loss: 781.6538 - val_mean_absolute_error: 781.6538\n",
            "Epoch 32/200\n",
            "80/80 [==============================] - 0s 5ms/step - loss: 741.9483 - mean_absolute_error: 741.9483 - val_loss: 788.8162 - val_mean_absolute_error: 788.8162\n",
            "Epoch 33/200\n",
            "80/80 [==============================] - 0s 5ms/step - loss: 747.4469 - mean_absolute_error: 747.4469 - val_loss: 777.5402 - val_mean_absolute_error: 777.5402\n",
            "Epoch 34/200\n",
            "80/80 [==============================] - 0s 5ms/step - loss: 737.7425 - mean_absolute_error: 737.7425 - val_loss: 772.6847 - val_mean_absolute_error: 772.6847\n",
            "Epoch 35/200\n",
            "80/80 [==============================] - 0s 5ms/step - loss: 745.1328 - mean_absolute_error: 745.1328 - val_loss: 784.5507 - val_mean_absolute_error: 784.5507\n",
            "Epoch 36/200\n",
            "80/80 [==============================] - 0s 5ms/step - loss: 741.0438 - mean_absolute_error: 741.0438 - val_loss: 769.2099 - val_mean_absolute_error: 769.2099\n",
            "Epoch 37/200\n",
            "80/80 [==============================] - 0s 5ms/step - loss: 735.8418 - mean_absolute_error: 735.8418 - val_loss: 771.7333 - val_mean_absolute_error: 771.7333\n",
            "Epoch 38/200\n",
            "80/80 [==============================] - 0s 5ms/step - loss: 737.0649 - mean_absolute_error: 737.0649 - val_loss: 778.0182 - val_mean_absolute_error: 778.0182\n",
            "Epoch 39/200\n",
            "80/80 [==============================] - 0s 5ms/step - loss: 742.5851 - mean_absolute_error: 742.5851 - val_loss: 768.6970 - val_mean_absolute_error: 768.6970\n",
            "Epoch 40/200\n",
            "80/80 [==============================] - 0s 5ms/step - loss: 742.3685 - mean_absolute_error: 742.3685 - val_loss: 780.7587 - val_mean_absolute_error: 780.7587\n",
            "Epoch 41/200\n",
            "80/80 [==============================] - 0s 5ms/step - loss: 740.2027 - mean_absolute_error: 740.2027 - val_loss: 774.1061 - val_mean_absolute_error: 774.1061\n",
            "Epoch 42/200\n",
            "80/80 [==============================] - 0s 5ms/step - loss: 740.2866 - mean_absolute_error: 740.2866 - val_loss: 773.8621 - val_mean_absolute_error: 773.8621\n",
            "Epoch 43/200\n",
            "80/80 [==============================] - 0s 5ms/step - loss: 740.3086 - mean_absolute_error: 740.3086 - val_loss: 775.2661 - val_mean_absolute_error: 775.2661\n",
            "Epoch 44/200\n",
            "80/80 [==============================] - 0s 5ms/step - loss: 739.1908 - mean_absolute_error: 739.1908 - val_loss: 801.3460 - val_mean_absolute_error: 801.3460\n",
            "Epoch 45/200\n",
            "80/80 [==============================] - 0s 5ms/step - loss: 738.9283 - mean_absolute_error: 738.9283 - val_loss: 783.7961 - val_mean_absolute_error: 783.7961\n",
            "Epoch 46/200\n",
            "80/80 [==============================] - 0s 5ms/step - loss: 742.9042 - mean_absolute_error: 742.9042 - val_loss: 779.8582 - val_mean_absolute_error: 779.8582\n",
            "Epoch 47/200\n",
            "80/80 [==============================] - 0s 5ms/step - loss: 736.7328 - mean_absolute_error: 736.7328 - val_loss: 782.6462 - val_mean_absolute_error: 782.6462\n",
            "Epoch 48/200\n",
            "80/80 [==============================] - 0s 5ms/step - loss: 734.7975 - mean_absolute_error: 734.7975 - val_loss: 775.2726 - val_mean_absolute_error: 775.2726\n",
            "Epoch 49/200\n",
            "80/80 [==============================] - 0s 5ms/step - loss: 742.9791 - mean_absolute_error: 742.9791 - val_loss: 798.1887 - val_mean_absolute_error: 798.1887\n",
            "Epoch 50/200\n",
            "80/80 [==============================] - 0s 5ms/step - loss: 739.0038 - mean_absolute_error: 739.0038 - val_loss: 773.2793 - val_mean_absolute_error: 773.2793\n",
            "Epoch 51/200\n",
            "80/80 [==============================] - 0s 5ms/step - loss: 736.7460 - mean_absolute_error: 736.7460 - val_loss: 778.2982 - val_mean_absolute_error: 778.2982\n",
            "Epoch 52/200\n",
            "80/80 [==============================] - 0s 5ms/step - loss: 738.6407 - mean_absolute_error: 738.6407 - val_loss: 780.9661 - val_mean_absolute_error: 780.9661\n",
            "Epoch 53/200\n",
            "80/80 [==============================] - 0s 5ms/step - loss: 734.5845 - mean_absolute_error: 734.5845 - val_loss: 779.0627 - val_mean_absolute_error: 779.0627\n",
            "Epoch 54/200\n",
            "80/80 [==============================] - 0s 5ms/step - loss: 738.8777 - mean_absolute_error: 738.8777 - val_loss: 776.2714 - val_mean_absolute_error: 776.2714\n",
            "Epoch 55/200\n",
            "80/80 [==============================] - 0s 5ms/step - loss: 733.6166 - mean_absolute_error: 733.6166 - val_loss: 776.1998 - val_mean_absolute_error: 776.1998\n",
            "Epoch 56/200\n",
            "80/80 [==============================] - 0s 5ms/step - loss: 735.3042 - mean_absolute_error: 735.3042 - val_loss: 785.4226 - val_mean_absolute_error: 785.4226\n",
            "Epoch 57/200\n",
            "80/80 [==============================] - 0s 5ms/step - loss: 734.3840 - mean_absolute_error: 734.3840 - val_loss: 778.8040 - val_mean_absolute_error: 778.8040\n",
            "Epoch 58/200\n",
            "80/80 [==============================] - 0s 5ms/step - loss: 739.0250 - mean_absolute_error: 739.0250 - val_loss: 773.6257 - val_mean_absolute_error: 773.6257\n",
            "Epoch 59/200\n",
            "80/80 [==============================] - 0s 5ms/step - loss: 737.9183 - mean_absolute_error: 737.9183 - val_loss: 775.2805 - val_mean_absolute_error: 775.2805\n",
            "Epoch 60/200\n",
            "80/80 [==============================] - 0s 5ms/step - loss: 733.7880 - mean_absolute_error: 733.7880 - val_loss: 775.8353 - val_mean_absolute_error: 775.8353\n",
            "Epoch 61/200\n",
            "80/80 [==============================] - 0s 5ms/step - loss: 735.4169 - mean_absolute_error: 735.4169 - val_loss: 779.3334 - val_mean_absolute_error: 779.3334\n",
            "Epoch 62/200\n",
            "80/80 [==============================] - 0s 5ms/step - loss: 730.1558 - mean_absolute_error: 730.1558 - val_loss: 794.9097 - val_mean_absolute_error: 794.9097\n",
            "Epoch 63/200\n",
            "80/80 [==============================] - 0s 5ms/step - loss: 737.2239 - mean_absolute_error: 737.2239 - val_loss: 776.7219 - val_mean_absolute_error: 776.7219\n",
            "Epoch 64/200\n",
            "80/80 [==============================] - 0s 5ms/step - loss: 729.2690 - mean_absolute_error: 729.2690 - val_loss: 771.2173 - val_mean_absolute_error: 771.2173\n",
            "Epoch 65/200\n",
            "80/80 [==============================] - 0s 5ms/step - loss: 740.3525 - mean_absolute_error: 740.3525 - val_loss: 792.5207 - val_mean_absolute_error: 792.5207\n",
            "Epoch 66/200\n",
            "80/80 [==============================] - 0s 5ms/step - loss: 735.7474 - mean_absolute_error: 735.7474 - val_loss: 774.0483 - val_mean_absolute_error: 774.0483\n",
            "Epoch 67/200\n",
            "80/80 [==============================] - 0s 5ms/step - loss: 731.0161 - mean_absolute_error: 731.0161 - val_loss: 783.2516 - val_mean_absolute_error: 783.2516\n",
            "Epoch 68/200\n",
            "80/80 [==============================] - 0s 5ms/step - loss: 732.0378 - mean_absolute_error: 732.0378 - val_loss: 791.6140 - val_mean_absolute_error: 791.6140\n",
            "Epoch 69/200\n",
            "80/80 [==============================] - 0s 5ms/step - loss: 737.3148 - mean_absolute_error: 737.3148 - val_loss: 776.8097 - val_mean_absolute_error: 776.8097\n",
            "Epoch 70/200\n",
            "80/80 [==============================] - 0s 5ms/step - loss: 736.7666 - mean_absolute_error: 736.7666 - val_loss: 777.1369 - val_mean_absolute_error: 777.1369\n",
            "Epoch 71/200\n",
            "80/80 [==============================] - 0s 5ms/step - loss: 732.4827 - mean_absolute_error: 732.4827 - val_loss: 777.5883 - val_mean_absolute_error: 777.5883\n",
            "Epoch 72/200\n",
            "80/80 [==============================] - 0s 5ms/step - loss: 733.1395 - mean_absolute_error: 733.1395 - val_loss: 779.6945 - val_mean_absolute_error: 779.6945\n",
            "Epoch 73/200\n",
            "80/80 [==============================] - 0s 5ms/step - loss: 733.2542 - mean_absolute_error: 733.2542 - val_loss: 775.2033 - val_mean_absolute_error: 775.2033\n",
            "Epoch 74/200\n",
            "80/80 [==============================] - 0s 5ms/step - loss: 728.2004 - mean_absolute_error: 728.2004 - val_loss: 771.3021 - val_mean_absolute_error: 771.3021\n",
            "Epoch 75/200\n",
            "80/80 [==============================] - 0s 5ms/step - loss: 733.1078 - mean_absolute_error: 733.1078 - val_loss: 782.2203 - val_mean_absolute_error: 782.2203\n",
            "Epoch 76/200\n",
            "80/80 [==============================] - 0s 5ms/step - loss: 737.1976 - mean_absolute_error: 737.1976 - val_loss: 786.1454 - val_mean_absolute_error: 786.1454\n",
            "Epoch 77/200\n",
            "80/80 [==============================] - 0s 5ms/step - loss: 732.8212 - mean_absolute_error: 732.8212 - val_loss: 782.1244 - val_mean_absolute_error: 782.1244\n",
            "Epoch 78/200\n",
            "80/80 [==============================] - 0s 5ms/step - loss: 732.4113 - mean_absolute_error: 732.4113 - val_loss: 773.7129 - val_mean_absolute_error: 773.7129\n",
            "Epoch 79/200\n",
            "80/80 [==============================] - 0s 5ms/step - loss: 729.3420 - mean_absolute_error: 729.3420 - val_loss: 775.6584 - val_mean_absolute_error: 775.6584\n",
            "Epoch 80/200\n",
            "80/80 [==============================] - 0s 5ms/step - loss: 734.8411 - mean_absolute_error: 734.8411 - val_loss: 783.4097 - val_mean_absolute_error: 783.4097\n",
            "Epoch 81/200\n",
            "80/80 [==============================] - 0s 5ms/step - loss: 735.3653 - mean_absolute_error: 735.3653 - val_loss: 780.1852 - val_mean_absolute_error: 780.1852\n",
            "Epoch 82/200\n",
            "80/80 [==============================] - 0s 5ms/step - loss: 732.5075 - mean_absolute_error: 732.5075 - val_loss: 775.7067 - val_mean_absolute_error: 775.7067\n",
            "Epoch 83/200\n",
            "80/80 [==============================] - 0s 5ms/step - loss: 731.3345 - mean_absolute_error: 731.3345 - val_loss: 788.4239 - val_mean_absolute_error: 788.4239\n",
            "Epoch 84/200\n",
            "80/80 [==============================] - 0s 5ms/step - loss: 729.2846 - mean_absolute_error: 729.2846 - val_loss: 771.9254 - val_mean_absolute_error: 771.9254\n",
            "Epoch 85/200\n",
            "80/80 [==============================] - 0s 5ms/step - loss: 727.9130 - mean_absolute_error: 727.9130 - val_loss: 787.3708 - val_mean_absolute_error: 787.3708\n",
            "Epoch 86/200\n",
            "80/80 [==============================] - 0s 5ms/step - loss: 730.0953 - mean_absolute_error: 730.0953 - val_loss: 779.9898 - val_mean_absolute_error: 779.9898\n",
            "Epoch 87/200\n",
            "80/80 [==============================] - 0s 5ms/step - loss: 728.2455 - mean_absolute_error: 728.2455 - val_loss: 774.0509 - val_mean_absolute_error: 774.0509\n",
            "Epoch 88/200\n",
            "80/80 [==============================] - 0s 5ms/step - loss: 732.7513 - mean_absolute_error: 732.7513 - val_loss: 787.0585 - val_mean_absolute_error: 787.0585\n",
            "Epoch 89/200\n",
            "80/80 [==============================] - 0s 5ms/step - loss: 726.8818 - mean_absolute_error: 726.8818 - val_loss: 775.1061 - val_mean_absolute_error: 775.1061\n",
            "Epoch 90/200\n",
            "80/80 [==============================] - 0s 5ms/step - loss: 729.6652 - mean_absolute_error: 729.6652 - val_loss: 791.3435 - val_mean_absolute_error: 791.3435\n",
            "Epoch 91/200\n",
            "80/80 [==============================] - 0s 5ms/step - loss: 726.7024 - mean_absolute_error: 726.7024 - val_loss: 782.8796 - val_mean_absolute_error: 782.8796\n",
            "Epoch 92/200\n",
            "80/80 [==============================] - 0s 5ms/step - loss: 729.5601 - mean_absolute_error: 729.5601 - val_loss: 783.0255 - val_mean_absolute_error: 783.0255\n",
            "Epoch 93/200\n",
            "80/80 [==============================] - 0s 5ms/step - loss: 727.0142 - mean_absolute_error: 727.0142 - val_loss: 785.1494 - val_mean_absolute_error: 785.1494\n",
            "Epoch 94/200\n",
            "80/80 [==============================] - 0s 5ms/step - loss: 727.8680 - mean_absolute_error: 727.8680 - val_loss: 809.3763 - val_mean_absolute_error: 809.3763\n",
            "Epoch 95/200\n",
            "80/80 [==============================] - 0s 5ms/step - loss: 730.3177 - mean_absolute_error: 730.3177 - val_loss: 782.8604 - val_mean_absolute_error: 782.8604\n",
            "Epoch 96/200\n",
            "80/80 [==============================] - 0s 5ms/step - loss: 730.8568 - mean_absolute_error: 730.8568 - val_loss: 782.9156 - val_mean_absolute_error: 782.9156\n",
            "Epoch 97/200\n",
            "80/80 [==============================] - 0s 5ms/step - loss: 727.4780 - mean_absolute_error: 727.4780 - val_loss: 775.5940 - val_mean_absolute_error: 775.5940\n",
            "Epoch 98/200\n",
            "80/80 [==============================] - 0s 5ms/step - loss: 729.9220 - mean_absolute_error: 729.9220 - val_loss: 775.9745 - val_mean_absolute_error: 775.9745\n",
            "Epoch 99/200\n",
            "80/80 [==============================] - 0s 5ms/step - loss: 725.2586 - mean_absolute_error: 725.2586 - val_loss: 778.4657 - val_mean_absolute_error: 778.4657\n",
            "Epoch 100/200\n",
            "80/80 [==============================] - 0s 5ms/step - loss: 725.4304 - mean_absolute_error: 725.4304 - val_loss: 777.5192 - val_mean_absolute_error: 777.5192\n",
            "Epoch 101/200\n",
            "80/80 [==============================] - 0s 5ms/step - loss: 726.2983 - mean_absolute_error: 726.2983 - val_loss: 777.7938 - val_mean_absolute_error: 777.7938\n",
            "Epoch 102/200\n",
            "80/80 [==============================] - 0s 5ms/step - loss: 730.5423 - mean_absolute_error: 730.5423 - val_loss: 795.2412 - val_mean_absolute_error: 795.2412\n",
            "Epoch 103/200\n",
            "80/80 [==============================] - 0s 5ms/step - loss: 724.2499 - mean_absolute_error: 724.2499 - val_loss: 780.4768 - val_mean_absolute_error: 780.4768\n",
            "Epoch 104/200\n",
            "80/80 [==============================] - 0s 5ms/step - loss: 730.0723 - mean_absolute_error: 730.0723 - val_loss: 779.4539 - val_mean_absolute_error: 779.4539\n",
            "Epoch 105/200\n",
            "80/80 [==============================] - 0s 5ms/step - loss: 723.8239 - mean_absolute_error: 723.8239 - val_loss: 778.4808 - val_mean_absolute_error: 778.4808\n",
            "Epoch 106/200\n",
            "80/80 [==============================] - 0s 5ms/step - loss: 727.0997 - mean_absolute_error: 727.0997 - val_loss: 782.6793 - val_mean_absolute_error: 782.6793\n",
            "Epoch 107/200\n",
            "80/80 [==============================] - 0s 5ms/step - loss: 725.0646 - mean_absolute_error: 725.0646 - val_loss: 783.1655 - val_mean_absolute_error: 783.1655\n",
            "Epoch 108/200\n",
            "80/80 [==============================] - 0s 5ms/step - loss: 722.8047 - mean_absolute_error: 722.8047 - val_loss: 784.3457 - val_mean_absolute_error: 784.3457\n",
            "Epoch 109/200\n",
            "80/80 [==============================] - 0s 5ms/step - loss: 723.4642 - mean_absolute_error: 723.4642 - val_loss: 776.6990 - val_mean_absolute_error: 776.6990\n",
            "Epoch 110/200\n",
            "80/80 [==============================] - 0s 5ms/step - loss: 721.6634 - mean_absolute_error: 721.6634 - val_loss: 794.3325 - val_mean_absolute_error: 794.3325\n",
            "Epoch 111/200\n",
            "80/80 [==============================] - 0s 5ms/step - loss: 719.9868 - mean_absolute_error: 719.9868 - val_loss: 781.4089 - val_mean_absolute_error: 781.4089\n",
            "Epoch 112/200\n",
            "80/80 [==============================] - 0s 5ms/step - loss: 719.7464 - mean_absolute_error: 719.7464 - val_loss: 784.4975 - val_mean_absolute_error: 784.4975\n",
            "Epoch 113/200\n",
            "80/80 [==============================] - 0s 5ms/step - loss: 721.9712 - mean_absolute_error: 721.9712 - val_loss: 782.1682 - val_mean_absolute_error: 782.1682\n",
            "Epoch 114/200\n",
            "80/80 [==============================] - 0s 5ms/step - loss: 717.3680 - mean_absolute_error: 717.3680 - val_loss: 788.4523 - val_mean_absolute_error: 788.4523\n",
            "Epoch 115/200\n",
            "80/80 [==============================] - 0s 5ms/step - loss: 719.0189 - mean_absolute_error: 719.0189 - val_loss: 790.0544 - val_mean_absolute_error: 790.0544\n",
            "Epoch 116/200\n",
            "80/80 [==============================] - 0s 5ms/step - loss: 726.3314 - mean_absolute_error: 726.3314 - val_loss: 779.5767 - val_mean_absolute_error: 779.5767\n",
            "Epoch 117/200\n",
            "80/80 [==============================] - 0s 5ms/step - loss: 726.9003 - mean_absolute_error: 726.9003 - val_loss: 787.9876 - val_mean_absolute_error: 787.9876\n",
            "Epoch 118/200\n",
            "80/80 [==============================] - 0s 5ms/step - loss: 719.4328 - mean_absolute_error: 719.4328 - val_loss: 801.2969 - val_mean_absolute_error: 801.2969\n",
            "Epoch 119/200\n",
            "80/80 [==============================] - 0s 5ms/step - loss: 723.4680 - mean_absolute_error: 723.4680 - val_loss: 791.0456 - val_mean_absolute_error: 791.0456\n",
            "Epoch 120/200\n",
            "80/80 [==============================] - 0s 5ms/step - loss: 724.3405 - mean_absolute_error: 724.3405 - val_loss: 782.7305 - val_mean_absolute_error: 782.7305\n",
            "Epoch 121/200\n",
            "80/80 [==============================] - 0s 5ms/step - loss: 719.3066 - mean_absolute_error: 719.3066 - val_loss: 794.9523 - val_mean_absolute_error: 794.9523\n",
            "Epoch 122/200\n",
            "80/80 [==============================] - 0s 5ms/step - loss: 719.9708 - mean_absolute_error: 719.9708 - val_loss: 811.2932 - val_mean_absolute_error: 811.2932\n",
            "Epoch 123/200\n",
            "80/80 [==============================] - 0s 5ms/step - loss: 724.4335 - mean_absolute_error: 724.4335 - val_loss: 798.5097 - val_mean_absolute_error: 798.5097\n",
            "Epoch 124/200\n",
            "80/80 [==============================] - 0s 5ms/step - loss: 713.7682 - mean_absolute_error: 713.7682 - val_loss: 793.1608 - val_mean_absolute_error: 793.1608\n",
            "Epoch 125/200\n",
            "80/80 [==============================] - 0s 5ms/step - loss: 719.3232 - mean_absolute_error: 719.3232 - val_loss: 793.6938 - val_mean_absolute_error: 793.6938\n",
            "Epoch 126/200\n",
            "80/80 [==============================] - 0s 5ms/step - loss: 720.7531 - mean_absolute_error: 720.7531 - val_loss: 779.8327 - val_mean_absolute_error: 779.8327\n",
            "Epoch 127/200\n",
            "80/80 [==============================] - 0s 5ms/step - loss: 717.2410 - mean_absolute_error: 717.2410 - val_loss: 800.9949 - val_mean_absolute_error: 800.9949\n",
            "Epoch 128/200\n",
            "80/80 [==============================] - 0s 5ms/step - loss: 719.8137 - mean_absolute_error: 719.8137 - val_loss: 793.3354 - val_mean_absolute_error: 793.3354\n",
            "Epoch 129/200\n",
            "80/80 [==============================] - 0s 5ms/step - loss: 721.7747 - mean_absolute_error: 721.7747 - val_loss: 796.5011 - val_mean_absolute_error: 796.5011\n",
            "Epoch 130/200\n",
            "80/80 [==============================] - 0s 5ms/step - loss: 712.7516 - mean_absolute_error: 712.7516 - val_loss: 791.5607 - val_mean_absolute_error: 791.5607\n",
            "Epoch 131/200\n",
            "80/80 [==============================] - 0s 5ms/step - loss: 716.9656 - mean_absolute_error: 716.9656 - val_loss: 785.4497 - val_mean_absolute_error: 785.4497\n",
            "Epoch 132/200\n",
            "80/80 [==============================] - 0s 5ms/step - loss: 714.6476 - mean_absolute_error: 714.6476 - val_loss: 804.9589 - val_mean_absolute_error: 804.9589\n",
            "Epoch 133/200\n",
            "80/80 [==============================] - 0s 5ms/step - loss: 715.8871 - mean_absolute_error: 715.8871 - val_loss: 802.1594 - val_mean_absolute_error: 802.1594\n",
            "Epoch 134/200\n",
            "80/80 [==============================] - 0s 5ms/step - loss: 720.8202 - mean_absolute_error: 720.8202 - val_loss: 788.2936 - val_mean_absolute_error: 788.2936\n",
            "Epoch 135/200\n",
            "80/80 [==============================] - 0s 5ms/step - loss: 714.3130 - mean_absolute_error: 714.3130 - val_loss: 782.6881 - val_mean_absolute_error: 782.6881\n",
            "Epoch 136/200\n",
            "80/80 [==============================] - 0s 5ms/step - loss: 709.9709 - mean_absolute_error: 709.9709 - val_loss: 804.0377 - val_mean_absolute_error: 804.0377\n",
            "Epoch 137/200\n",
            "80/80 [==============================] - 0s 5ms/step - loss: 710.4895 - mean_absolute_error: 710.4895 - val_loss: 786.4923 - val_mean_absolute_error: 786.4923\n",
            "Epoch 138/200\n",
            "80/80 [==============================] - 0s 5ms/step - loss: 712.8736 - mean_absolute_error: 712.8736 - val_loss: 785.9742 - val_mean_absolute_error: 785.9742\n",
            "Epoch 139/200\n",
            "80/80 [==============================] - 0s 5ms/step - loss: 712.3226 - mean_absolute_error: 712.3226 - val_loss: 798.1751 - val_mean_absolute_error: 798.1751\n",
            "Epoch 140/200\n",
            "80/80 [==============================] - 0s 5ms/step - loss: 712.7042 - mean_absolute_error: 712.7042 - val_loss: 791.8112 - val_mean_absolute_error: 791.8112\n",
            "Epoch 141/200\n",
            "80/80 [==============================] - 0s 5ms/step - loss: 715.6125 - mean_absolute_error: 715.6125 - val_loss: 791.0983 - val_mean_absolute_error: 791.0983\n",
            "Epoch 142/200\n",
            "80/80 [==============================] - 0s 5ms/step - loss: 715.3556 - mean_absolute_error: 715.3556 - val_loss: 787.3399 - val_mean_absolute_error: 787.3399\n",
            "Epoch 143/200\n",
            "80/80 [==============================] - 0s 5ms/step - loss: 707.7755 - mean_absolute_error: 707.7755 - val_loss: 798.8713 - val_mean_absolute_error: 798.8713\n",
            "Epoch 144/200\n",
            "80/80 [==============================] - 0s 5ms/step - loss: 709.7753 - mean_absolute_error: 709.7753 - val_loss: 786.9167 - val_mean_absolute_error: 786.9167\n",
            "Epoch 145/200\n",
            "80/80 [==============================] - 0s 5ms/step - loss: 708.4722 - mean_absolute_error: 708.4722 - val_loss: 792.9077 - val_mean_absolute_error: 792.9077\n",
            "Epoch 146/200\n",
            "80/80 [==============================] - 0s 5ms/step - loss: 707.7607 - mean_absolute_error: 707.7607 - val_loss: 792.0663 - val_mean_absolute_error: 792.0663\n",
            "Epoch 147/200\n",
            "80/80 [==============================] - 0s 5ms/step - loss: 711.6678 - mean_absolute_error: 711.6678 - val_loss: 789.6282 - val_mean_absolute_error: 789.6282\n",
            "Epoch 148/200\n",
            "80/80 [==============================] - 0s 5ms/step - loss: 710.3635 - mean_absolute_error: 710.3635 - val_loss: 796.2377 - val_mean_absolute_error: 796.2377\n",
            "Epoch 149/200\n",
            "80/80 [==============================] - 0s 5ms/step - loss: 709.8058 - mean_absolute_error: 709.8058 - val_loss: 809.4574 - val_mean_absolute_error: 809.4574\n",
            "Epoch 150/200\n",
            "80/80 [==============================] - 0s 5ms/step - loss: 711.7027 - mean_absolute_error: 711.7027 - val_loss: 797.3479 - val_mean_absolute_error: 797.3479\n",
            "Epoch 151/200\n",
            "80/80 [==============================] - 0s 5ms/step - loss: 705.0628 - mean_absolute_error: 705.0628 - val_loss: 793.3179 - val_mean_absolute_error: 793.3179\n",
            "Epoch 152/200\n",
            "80/80 [==============================] - 0s 5ms/step - loss: 709.4191 - mean_absolute_error: 709.4191 - val_loss: 804.3300 - val_mean_absolute_error: 804.3300\n",
            "Epoch 153/200\n",
            "80/80 [==============================] - 0s 5ms/step - loss: 714.4758 - mean_absolute_error: 714.4758 - val_loss: 805.3906 - val_mean_absolute_error: 805.3906\n",
            "Epoch 154/200\n",
            "80/80 [==============================] - 0s 5ms/step - loss: 701.4441 - mean_absolute_error: 701.4441 - val_loss: 792.5979 - val_mean_absolute_error: 792.5979\n",
            "Epoch 155/200\n",
            "80/80 [==============================] - 0s 6ms/step - loss: 703.3089 - mean_absolute_error: 703.3089 - val_loss: 819.5251 - val_mean_absolute_error: 819.5251\n",
            "Epoch 156/200\n",
            "80/80 [==============================] - 0s 5ms/step - loss: 708.2342 - mean_absolute_error: 708.2342 - val_loss: 792.9779 - val_mean_absolute_error: 792.9779\n",
            "Epoch 157/200\n",
            "80/80 [==============================] - 0s 5ms/step - loss: 703.7998 - mean_absolute_error: 703.7998 - val_loss: 794.5137 - val_mean_absolute_error: 794.5137\n",
            "Epoch 158/200\n",
            "80/80 [==============================] - 0s 5ms/step - loss: 706.6709 - mean_absolute_error: 706.6709 - val_loss: 792.3028 - val_mean_absolute_error: 792.3028\n",
            "Epoch 159/200\n",
            "80/80 [==============================] - 0s 6ms/step - loss: 704.2588 - mean_absolute_error: 704.2588 - val_loss: 816.1357 - val_mean_absolute_error: 816.1357\n",
            "Epoch 160/200\n",
            "80/80 [==============================] - 0s 5ms/step - loss: 706.6912 - mean_absolute_error: 706.6912 - val_loss: 817.6160 - val_mean_absolute_error: 817.6160\n",
            "Epoch 161/200\n",
            "80/80 [==============================] - 0s 5ms/step - loss: 704.1220 - mean_absolute_error: 704.1220 - val_loss: 796.6736 - val_mean_absolute_error: 796.6736\n",
            "Epoch 162/200\n",
            "80/80 [==============================] - 0s 5ms/step - loss: 707.8444 - mean_absolute_error: 707.8444 - val_loss: 795.6594 - val_mean_absolute_error: 795.6594\n",
            "Epoch 163/200\n",
            "80/80 [==============================] - 0s 5ms/step - loss: 701.5343 - mean_absolute_error: 701.5343 - val_loss: 799.5772 - val_mean_absolute_error: 799.5772\n",
            "Epoch 164/200\n",
            "80/80 [==============================] - 0s 5ms/step - loss: 703.4325 - mean_absolute_error: 703.4325 - val_loss: 799.9625 - val_mean_absolute_error: 799.9625\n",
            "Epoch 165/200\n",
            "80/80 [==============================] - 0s 5ms/step - loss: 702.2746 - mean_absolute_error: 702.2746 - val_loss: 797.6155 - val_mean_absolute_error: 797.6155\n",
            "Epoch 166/200\n",
            "80/80 [==============================] - 0s 5ms/step - loss: 703.1582 - mean_absolute_error: 703.1582 - val_loss: 800.7029 - val_mean_absolute_error: 800.7029\n",
            "Epoch 167/200\n",
            "80/80 [==============================] - 0s 5ms/step - loss: 703.0520 - mean_absolute_error: 703.0520 - val_loss: 814.7819 - val_mean_absolute_error: 814.7819\n",
            "Epoch 168/200\n",
            "80/80 [==============================] - 0s 5ms/step - loss: 700.4276 - mean_absolute_error: 700.4276 - val_loss: 792.3364 - val_mean_absolute_error: 792.3364\n",
            "Epoch 169/200\n",
            "80/80 [==============================] - 0s 5ms/step - loss: 703.9594 - mean_absolute_error: 703.9594 - val_loss: 803.3669 - val_mean_absolute_error: 803.3669\n",
            "Epoch 170/200\n",
            "80/80 [==============================] - 0s 5ms/step - loss: 703.6206 - mean_absolute_error: 703.6206 - val_loss: 809.5396 - val_mean_absolute_error: 809.5396\n",
            "Epoch 171/200\n",
            "80/80 [==============================] - 0s 5ms/step - loss: 695.9595 - mean_absolute_error: 695.9595 - val_loss: 802.9769 - val_mean_absolute_error: 802.9769\n",
            "Epoch 172/200\n",
            "80/80 [==============================] - 0s 5ms/step - loss: 698.4525 - mean_absolute_error: 698.4525 - val_loss: 803.6713 - val_mean_absolute_error: 803.6713\n",
            "Epoch 173/200\n",
            "80/80 [==============================] - 0s 5ms/step - loss: 695.8620 - mean_absolute_error: 695.8620 - val_loss: 808.8440 - val_mean_absolute_error: 808.8440\n",
            "Epoch 174/200\n",
            "80/80 [==============================] - 0s 5ms/step - loss: 703.4689 - mean_absolute_error: 703.4689 - val_loss: 801.0291 - val_mean_absolute_error: 801.0291\n",
            "Epoch 175/200\n",
            "80/80 [==============================] - 0s 5ms/step - loss: 696.3688 - mean_absolute_error: 696.3688 - val_loss: 805.7162 - val_mean_absolute_error: 805.7162\n",
            "Epoch 176/200\n",
            "80/80 [==============================] - 0s 5ms/step - loss: 698.2696 - mean_absolute_error: 698.2696 - val_loss: 809.4062 - val_mean_absolute_error: 809.4062\n",
            "Epoch 177/200\n",
            "80/80 [==============================] - 0s 5ms/step - loss: 697.4868 - mean_absolute_error: 697.4868 - val_loss: 800.6306 - val_mean_absolute_error: 800.6306\n",
            "Epoch 178/200\n",
            "80/80 [==============================] - 0s 5ms/step - loss: 696.4376 - mean_absolute_error: 696.4376 - val_loss: 804.9482 - val_mean_absolute_error: 804.9482\n",
            "Epoch 179/200\n",
            "80/80 [==============================] - 0s 5ms/step - loss: 704.8194 - mean_absolute_error: 704.8194 - val_loss: 803.2477 - val_mean_absolute_error: 803.2477\n",
            "Epoch 180/200\n",
            "80/80 [==============================] - 0s 6ms/step - loss: 694.2933 - mean_absolute_error: 694.2933 - val_loss: 808.6252 - val_mean_absolute_error: 808.6252\n",
            "Epoch 181/200\n",
            "80/80 [==============================] - 0s 5ms/step - loss: 697.4308 - mean_absolute_error: 697.4308 - val_loss: 805.7651 - val_mean_absolute_error: 805.7651\n",
            "Epoch 182/200\n",
            "80/80 [==============================] - 0s 5ms/step - loss: 695.8256 - mean_absolute_error: 695.8256 - val_loss: 812.3867 - val_mean_absolute_error: 812.3867\n",
            "Epoch 183/200\n",
            "80/80 [==============================] - 0s 5ms/step - loss: 695.1658 - mean_absolute_error: 695.1658 - val_loss: 810.5612 - val_mean_absolute_error: 810.5612\n",
            "Epoch 184/200\n",
            "80/80 [==============================] - 0s 5ms/step - loss: 692.6339 - mean_absolute_error: 692.6339 - val_loss: 813.3134 - val_mean_absolute_error: 813.3134\n",
            "Epoch 185/200\n",
            "80/80 [==============================] - 0s 5ms/step - loss: 687.3008 - mean_absolute_error: 687.3008 - val_loss: 814.4060 - val_mean_absolute_error: 814.4060\n",
            "Epoch 186/200\n",
            "80/80 [==============================] - 0s 5ms/step - loss: 688.5837 - mean_absolute_error: 688.5837 - val_loss: 807.0499 - val_mean_absolute_error: 807.0499\n",
            "Epoch 187/200\n",
            "80/80 [==============================] - 0s 5ms/step - loss: 689.8270 - mean_absolute_error: 689.8270 - val_loss: 816.8124 - val_mean_absolute_error: 816.8124\n",
            "Epoch 188/200\n",
            "80/80 [==============================] - 0s 5ms/step - loss: 691.0082 - mean_absolute_error: 691.0082 - val_loss: 823.6538 - val_mean_absolute_error: 823.6538\n",
            "Epoch 189/200\n",
            "80/80 [==============================] - 0s 5ms/step - loss: 692.8315 - mean_absolute_error: 692.8315 - val_loss: 805.3304 - val_mean_absolute_error: 805.3304\n",
            "Epoch 190/200\n",
            "80/80 [==============================] - 0s 5ms/step - loss: 691.6061 - mean_absolute_error: 691.6061 - val_loss: 855.3870 - val_mean_absolute_error: 855.3870\n",
            "Epoch 191/200\n",
            "80/80 [==============================] - 0s 5ms/step - loss: 695.2455 - mean_absolute_error: 695.2455 - val_loss: 820.7337 - val_mean_absolute_error: 820.7337\n",
            "Epoch 192/200\n",
            "80/80 [==============================] - 0s 5ms/step - loss: 692.3425 - mean_absolute_error: 692.3425 - val_loss: 827.8285 - val_mean_absolute_error: 827.8285\n",
            "Epoch 193/200\n",
            "80/80 [==============================] - 0s 5ms/step - loss: 695.1719 - mean_absolute_error: 695.1719 - val_loss: 808.0242 - val_mean_absolute_error: 808.0242\n",
            "Epoch 194/200\n",
            "80/80 [==============================] - 0s 5ms/step - loss: 684.5768 - mean_absolute_error: 684.5768 - val_loss: 812.1567 - val_mean_absolute_error: 812.1567\n",
            "Epoch 195/200\n",
            "80/80 [==============================] - 0s 5ms/step - loss: 691.5624 - mean_absolute_error: 691.5624 - val_loss: 825.3425 - val_mean_absolute_error: 825.3425\n",
            "Epoch 196/200\n",
            "80/80 [==============================] - 0s 5ms/step - loss: 690.0222 - mean_absolute_error: 690.0222 - val_loss: 818.2550 - val_mean_absolute_error: 818.2550\n",
            "Epoch 197/200\n",
            "80/80 [==============================] - 0s 6ms/step - loss: 688.2467 - mean_absolute_error: 688.2467 - val_loss: 820.4998 - val_mean_absolute_error: 820.4998\n",
            "Epoch 198/200\n",
            "80/80 [==============================] - 0s 5ms/step - loss: 693.1295 - mean_absolute_error: 693.1295 - val_loss: 829.3513 - val_mean_absolute_error: 829.3513\n",
            "Epoch 199/200\n",
            "80/80 [==============================] - 0s 5ms/step - loss: 686.4543 - mean_absolute_error: 686.4543 - val_loss: 826.1801 - val_mean_absolute_error: 826.1801\n",
            "Epoch 200/200\n",
            "80/80 [==============================] - 0s 5ms/step - loss: 683.5659 - mean_absolute_error: 683.5659 - val_loss: 810.1682 - val_mean_absolute_error: 810.1682\n"
          ],
          "name": "stdout"
        }
      ]
    },
    {
      "cell_type": "code",
      "metadata": {
        "id": "eGR0nou8XIa7"
      },
      "source": [
        "# getting predictions for the validation set\n",
        "prediction = model.predict(x_test)"
      ],
      "execution_count": 91,
      "outputs": []
    },
    {
      "cell_type": "code",
      "metadata": {
        "id": "o3WxPam1Xmv9",
        "outputId": "06672725-1488-4558-957f-6e88302ef5dd",
        "colab": {
          "base_uri": "https://localhost:8080/",
          "height": 295
        }
      },
      "source": [
        "# summarize history for loss\n",
        "plt.plot(model_history.history['loss'])\n",
        "plt.plot(model_history.history['val_loss'])\n",
        "plt.title('model loss')\n",
        "plt.ylabel('loss')\n",
        "plt.xlabel('epoch')\n",
        "plt.legend(['train', 'validation'], loc='upper left')\n",
        "plt.show()"
      ],
      "execution_count": 92,
      "outputs": [
        {
          "output_type": "display_data",
          "data": {
            "image/png": "[encoded data removed]",
            "text/plain": [
              "<Figure size 432x288 with 1 Axes>"
            ]
          },
          "metadata": {
            "tags": [],
            "needs_background": "light"
          }
        }
      ]
    },
    {
      "cell_type": "code",
      "metadata": {
        "id": "u8AMx5kPaAxm",
        "outputId": "b9463a6f-80e3-4284-8a37-baf5e8e128b4",
        "colab": {
          "base_uri": "https://localhost:8080/",
          "height": 295
        }
      },
      "source": [
        "# summarize history for mean_absolute_error\n",
        "plt.plot(model_history.history['mean_absolute_error'])\n",
        "plt.plot(model_history.history['val_mean_absolute_error'])\n",
        "plt.title('model MAE')\n",
        "plt.ylabel('mean_absolute_error')\n",
        "plt.xlabel('epoch')\n",
        "plt.legend(['train', 'validation'], loc='upper left')\n",
        "plt.show()"
      ],
      "execution_count": 93,
      "outputs": [
        {
          "output_type": "display_data",
          "data": {
            "image/png": "[encoded data removed]",
            "text/plain": [
              "<Figure size 432x288 with 1 Axes>"
            ]
          },
          "metadata": {
            "tags": [],
            "needs_background": "light"
          }
        }
      ]
    },
    {
      "cell_type": "code",
      "metadata": {
        "id": "kp4_x8aab2rt",
        "outputId": "749425f9-395f-4509-c32e-17ef4d1f40e3",
        "colab": {
          "base_uri": "https://localhost:8080/",
          "height": 34
        }
      },
      "source": [
        "from sklearn.metrics import r2_score,accuracy_score\n",
        "r2_score(y_test,prediction)"
      ],
      "execution_count": 94,
      "outputs": [
        {
          "output_type": "execute_result",
          "data": {
            "text/plain": [
              "0.5588700443282552"
            ]
          },
          "metadata": {
            "tags": []
          },
          "execution_count": 94
        }
      ]
    },
    {
      "cell_type": "code",
      "metadata": {
        "id": "-BIv1Fr6dZr-",
        "outputId": "dfc86ff9-5274-44b3-cee7-bd46a1285bca",
        "colab": {
          "base_uri": "https://localhost:8080/",
          "height": 224
        }
      },
      "source": [
        "ntest.head()"
      ],
      "execution_count": 95,
      "outputs": [
        {
          "output_type": "execute_result",
          "data": {
            "text/html": [
              "<div>\n",
              "<style scoped>\n",
              "    .dataframe tbody tr th:only-of-type {\n",
              "        vertical-align: middle;\n",
              "    }\n",
              "\n",
              "    .dataframe tbody tr th {\n",
              "        vertical-align: top;\n",
              "    }\n",
              "\n",
              "    .dataframe thead th {\n",
              "        text-align: right;\n",
              "    }\n",
              "</style>\n",
              "<table border=\"1\" class=\"dataframe\">\n",
              "  <thead>\n",
              "    <tr style=\"text-align: right;\">\n",
              "      <th></th>\n",
              "      <th>Item_Identifier</th>\n",
              "      <th>Item_Weight</th>\n",
              "      <th>Item_Visibility</th>\n",
              "      <th>Item_MRP</th>\n",
              "      <th>Outlet_Identifier</th>\n",
              "      <th>Outlet_Years</th>\n",
              "      <th>Item_Fat_Content_0</th>\n",
              "      <th>Item_Fat_Content_1</th>\n",
              "      <th>Outlet_Location_Type_0</th>\n",
              "      <th>Outlet_Location_Type_1</th>\n",
              "      <th>Outlet_Location_Type_2</th>\n",
              "      <th>Outlet_Size_0</th>\n",
              "      <th>Outlet_Size_1</th>\n",
              "      <th>Outlet_Size_2</th>\n",
              "      <th>Outlet_Size_3</th>\n",
              "      <th>Outlet_Type_0</th>\n",
              "      <th>Outlet_Type_1</th>\n",
              "      <th>Outlet_Type_2</th>\n",
              "      <th>Outlet_Type_3</th>\n",
              "      <th>Item_Type_Combined_0</th>\n",
              "      <th>Item_Type_Combined_1</th>\n",
              "      <th>Item_Type_Combined_2</th>\n",
              "      <th>Outlet_0</th>\n",
              "      <th>Outlet_1</th>\n",
              "      <th>Outlet_2</th>\n",
              "      <th>Outlet_3</th>\n",
              "      <th>Outlet_4</th>\n",
              "      <th>Outlet_5</th>\n",
              "      <th>Outlet_6</th>\n",
              "      <th>Outlet_7</th>\n",
              "      <th>Outlet_8</th>\n",
              "      <th>Outlet_9</th>\n",
              "    </tr>\n",
              "  </thead>\n",
              "  <tbody>\n",
              "    <tr>\n",
              "      <th>0</th>\n",
              "      <td>FDW58</td>\n",
              "      <td>20.750</td>\n",
              "      <td>0.007565</td>\n",
              "      <td>107.8622</td>\n",
              "      <td>OUT049</td>\n",
              "      <td>10</td>\n",
              "      <td>1</td>\n",
              "      <td>0</td>\n",
              "      <td>1</td>\n",
              "      <td>0</td>\n",
              "      <td>0</td>\n",
              "      <td>0</td>\n",
              "      <td>1</td>\n",
              "      <td>0</td>\n",
              "      <td>0</td>\n",
              "      <td>0</td>\n",
              "      <td>1</td>\n",
              "      <td>0</td>\n",
              "      <td>0</td>\n",
              "      <td>0</td>\n",
              "      <td>1</td>\n",
              "      <td>0</td>\n",
              "      <td>0</td>\n",
              "      <td>0</td>\n",
              "      <td>0</td>\n",
              "      <td>0</td>\n",
              "      <td>0</td>\n",
              "      <td>0</td>\n",
              "      <td>0</td>\n",
              "      <td>0</td>\n",
              "      <td>0</td>\n",
              "      <td>1</td>\n",
              "    </tr>\n",
              "    <tr>\n",
              "      <th>1</th>\n",
              "      <td>FDW14</td>\n",
              "      <td>8.300</td>\n",
              "      <td>0.038428</td>\n",
              "      <td>87.3198</td>\n",
              "      <td>OUT017</td>\n",
              "      <td>2</td>\n",
              "      <td>0</td>\n",
              "      <td>1</td>\n",
              "      <td>0</td>\n",
              "      <td>1</td>\n",
              "      <td>0</td>\n",
              "      <td>0</td>\n",
              "      <td>0</td>\n",
              "      <td>1</td>\n",
              "      <td>0</td>\n",
              "      <td>0</td>\n",
              "      <td>1</td>\n",
              "      <td>0</td>\n",
              "      <td>0</td>\n",
              "      <td>0</td>\n",
              "      <td>1</td>\n",
              "      <td>0</td>\n",
              "      <td>0</td>\n",
              "      <td>0</td>\n",
              "      <td>1</td>\n",
              "      <td>0</td>\n",
              "      <td>0</td>\n",
              "      <td>0</td>\n",
              "      <td>0</td>\n",
              "      <td>0</td>\n",
              "      <td>0</td>\n",
              "      <td>0</td>\n",
              "    </tr>\n",
              "    <tr>\n",
              "      <th>2</th>\n",
              "      <td>NCN55</td>\n",
              "      <td>14.600</td>\n",
              "      <td>0.099575</td>\n",
              "      <td>241.7538</td>\n",
              "      <td>OUT010</td>\n",
              "      <td>11</td>\n",
              "      <td>1</td>\n",
              "      <td>0</td>\n",
              "      <td>0</td>\n",
              "      <td>0</td>\n",
              "      <td>1</td>\n",
              "      <td>0</td>\n",
              "      <td>0</td>\n",
              "      <td>0</td>\n",
              "      <td>1</td>\n",
              "      <td>1</td>\n",
              "      <td>0</td>\n",
              "      <td>0</td>\n",
              "      <td>0</td>\n",
              "      <td>0</td>\n",
              "      <td>0</td>\n",
              "      <td>1</td>\n",
              "      <td>1</td>\n",
              "      <td>0</td>\n",
              "      <td>0</td>\n",
              "      <td>0</td>\n",
              "      <td>0</td>\n",
              "      <td>0</td>\n",
              "      <td>0</td>\n",
              "      <td>0</td>\n",
              "      <td>0</td>\n",
              "      <td>0</td>\n",
              "    </tr>\n",
              "    <tr>\n",
              "      <th>3</th>\n",
              "      <td>FDQ58</td>\n",
              "      <td>7.315</td>\n",
              "      <td>0.015388</td>\n",
              "      <td>155.0340</td>\n",
              "      <td>OUT017</td>\n",
              "      <td>2</td>\n",
              "      <td>1</td>\n",
              "      <td>0</td>\n",
              "      <td>0</td>\n",
              "      <td>1</td>\n",
              "      <td>0</td>\n",
              "      <td>0</td>\n",
              "      <td>0</td>\n",
              "      <td>1</td>\n",
              "      <td>0</td>\n",
              "      <td>0</td>\n",
              "      <td>1</td>\n",
              "      <td>0</td>\n",
              "      <td>0</td>\n",
              "      <td>0</td>\n",
              "      <td>1</td>\n",
              "      <td>0</td>\n",
              "      <td>0</td>\n",
              "      <td>0</td>\n",
              "      <td>1</td>\n",
              "      <td>0</td>\n",
              "      <td>0</td>\n",
              "      <td>0</td>\n",
              "      <td>0</td>\n",
              "      <td>0</td>\n",
              "      <td>0</td>\n",
              "      <td>0</td>\n",
              "    </tr>\n",
              "    <tr>\n",
              "      <th>4</th>\n",
              "      <td>FDY38</td>\n",
              "      <td>13.600</td>\n",
              "      <td>0.118599</td>\n",
              "      <td>234.2300</td>\n",
              "      <td>OUT027</td>\n",
              "      <td>24</td>\n",
              "      <td>0</td>\n",
              "      <td>1</td>\n",
              "      <td>0</td>\n",
              "      <td>0</td>\n",
              "      <td>1</td>\n",
              "      <td>0</td>\n",
              "      <td>1</td>\n",
              "      <td>0</td>\n",
              "      <td>0</td>\n",
              "      <td>0</td>\n",
              "      <td>0</td>\n",
              "      <td>0</td>\n",
              "      <td>1</td>\n",
              "      <td>0</td>\n",
              "      <td>1</td>\n",
              "      <td>0</td>\n",
              "      <td>0</td>\n",
              "      <td>0</td>\n",
              "      <td>0</td>\n",
              "      <td>0</td>\n",
              "      <td>0</td>\n",
              "      <td>1</td>\n",
              "      <td>0</td>\n",
              "      <td>0</td>\n",
              "      <td>0</td>\n",
              "      <td>0</td>\n",
              "    </tr>\n",
              "  </tbody>\n",
              "</table>\n",
              "</div>"
            ],
            "text/plain": [
              "  Item_Identifier  Item_Weight  Item_Visibility  ...  Outlet_7 Outlet_8  Outlet_9\n",
              "0           FDW58       20.750         0.007565  ...         0        0         1\n",
              "1           FDW14        8.300         0.038428  ...         0        0         0\n",
              "2           NCN55       14.600         0.099575  ...         0        0         0\n",
              "3           FDQ58        7.315         0.015388  ...         0        0         0\n",
              "4           FDY38       13.600         0.118599  ...         0        0         0\n",
              "\n",
              "[5 rows x 32 columns]"
            ]
          },
          "metadata": {
            "tags": []
          },
          "execution_count": 95
        }
      ]
    },
    {
      "cell_type": "code",
      "metadata": {
        "id": "LPR8j3rJd-CF",
        "outputId": "5a5882c2-8f57-4cbc-83b2-74a394515129",
        "colab": {
          "base_uri": "https://localhost:8080/",
          "height": 224
        }
      },
      "source": [
        "ntest.drop(axis=1,columns=['Item_Identifier','Outlet_Identifier'],inplace = True)\n",
        "ntest.head()"
      ],
      "execution_count": 96,
      "outputs": [
        {
          "output_type": "execute_result",
          "data": {
            "text/html": [
              "<div>\n",
              "<style scoped>\n",
              "    .dataframe tbody tr th:only-of-type {\n",
              "        vertical-align: middle;\n",
              "    }\n",
              "\n",
              "    .dataframe tbody tr th {\n",
              "        vertical-align: top;\n",
              "    }\n",
              "\n",
              "    .dataframe thead th {\n",
              "        text-align: right;\n",
              "    }\n",
              "</style>\n",
              "<table border=\"1\" class=\"dataframe\">\n",
              "  <thead>\n",
              "    <tr style=\"text-align: right;\">\n",
              "      <th></th>\n",
              "      <th>Item_Weight</th>\n",
              "      <th>Item_Visibility</th>\n",
              "      <th>Item_MRP</th>\n",
              "      <th>Outlet_Years</th>\n",
              "      <th>Item_Fat_Content_0</th>\n",
              "      <th>Item_Fat_Content_1</th>\n",
              "      <th>Outlet_Location_Type_0</th>\n",
              "      <th>Outlet_Location_Type_1</th>\n",
              "      <th>Outlet_Location_Type_2</th>\n",
              "      <th>Outlet_Size_0</th>\n",
              "      <th>Outlet_Size_1</th>\n",
              "      <th>Outlet_Size_2</th>\n",
              "      <th>Outlet_Size_3</th>\n",
              "      <th>Outlet_Type_0</th>\n",
              "      <th>Outlet_Type_1</th>\n",
              "      <th>Outlet_Type_2</th>\n",
              "      <th>Outlet_Type_3</th>\n",
              "      <th>Item_Type_Combined_0</th>\n",
              "      <th>Item_Type_Combined_1</th>\n",
              "      <th>Item_Type_Combined_2</th>\n",
              "      <th>Outlet_0</th>\n",
              "      <th>Outlet_1</th>\n",
              "      <th>Outlet_2</th>\n",
              "      <th>Outlet_3</th>\n",
              "      <th>Outlet_4</th>\n",
              "      <th>Outlet_5</th>\n",
              "      <th>Outlet_6</th>\n",
              "      <th>Outlet_7</th>\n",
              "      <th>Outlet_8</th>\n",
              "      <th>Outlet_9</th>\n",
              "    </tr>\n",
              "  </thead>\n",
              "  <tbody>\n",
              "    <tr>\n",
              "      <th>0</th>\n",
              "      <td>20.750</td>\n",
              "      <td>0.007565</td>\n",
              "      <td>107.8622</td>\n",
              "      <td>10</td>\n",
              "      <td>1</td>\n",
              "      <td>0</td>\n",
              "      <td>1</td>\n",
              "      <td>0</td>\n",
              "      <td>0</td>\n",
              "      <td>0</td>\n",
              "      <td>1</td>\n",
              "      <td>0</td>\n",
              "      <td>0</td>\n",
              "      <td>0</td>\n",
              "      <td>1</td>\n",
              "      <td>0</td>\n",
              "      <td>0</td>\n",
              "      <td>0</td>\n",
              "      <td>1</td>\n",
              "      <td>0</td>\n",
              "      <td>0</td>\n",
              "      <td>0</td>\n",
              "      <td>0</td>\n",
              "      <td>0</td>\n",
              "      <td>0</td>\n",
              "      <td>0</td>\n",
              "      <td>0</td>\n",
              "      <td>0</td>\n",
              "      <td>0</td>\n",
              "      <td>1</td>\n",
              "    </tr>\n",
              "    <tr>\n",
              "      <th>1</th>\n",
              "      <td>8.300</td>\n",
              "      <td>0.038428</td>\n",
              "      <td>87.3198</td>\n",
              "      <td>2</td>\n",
              "      <td>0</td>\n",
              "      <td>1</td>\n",
              "      <td>0</td>\n",
              "      <td>1</td>\n",
              "      <td>0</td>\n",
              "      <td>0</td>\n",
              "      <td>0</td>\n",
              "      <td>1</td>\n",
              "      <td>0</td>\n",
              "      <td>0</td>\n",
              "      <td>1</td>\n",
              "      <td>0</td>\n",
              "      <td>0</td>\n",
              "      <td>0</td>\n",
              "      <td>1</td>\n",
              "      <td>0</td>\n",
              "      <td>0</td>\n",
              "      <td>0</td>\n",
              "      <td>1</td>\n",
              "      <td>0</td>\n",
              "      <td>0</td>\n",
              "      <td>0</td>\n",
              "      <td>0</td>\n",
              "      <td>0</td>\n",
              "      <td>0</td>\n",
              "      <td>0</td>\n",
              "    </tr>\n",
              "    <tr>\n",
              "      <th>2</th>\n",
              "      <td>14.600</td>\n",
              "      <td>0.099575</td>\n",
              "      <td>241.7538</td>\n",
              "      <td>11</td>\n",
              "      <td>1</td>\n",
              "      <td>0</td>\n",
              "      <td>0</td>\n",
              "      <td>0</td>\n",
              "      <td>1</td>\n",
              "      <td>0</td>\n",
              "      <td>0</td>\n",
              "      <td>0</td>\n",
              "      <td>1</td>\n",
              "      <td>1</td>\n",
              "      <td>0</td>\n",
              "      <td>0</td>\n",
              "      <td>0</td>\n",
              "      <td>0</td>\n",
              "      <td>0</td>\n",
              "      <td>1</td>\n",
              "      <td>1</td>\n",
              "      <td>0</td>\n",
              "      <td>0</td>\n",
              "      <td>0</td>\n",
              "      <td>0</td>\n",
              "      <td>0</td>\n",
              "      <td>0</td>\n",
              "      <td>0</td>\n",
              "      <td>0</td>\n",
              "      <td>0</td>\n",
              "    </tr>\n",
              "    <tr>\n",
              "      <th>3</th>\n",
              "      <td>7.315</td>\n",
              "      <td>0.015388</td>\n",
              "      <td>155.0340</td>\n",
              "      <td>2</td>\n",
              "      <td>1</td>\n",
              "      <td>0</td>\n",
              "      <td>0</td>\n",
              "      <td>1</td>\n",
              "      <td>0</td>\n",
              "      <td>0</td>\n",
              "      <td>0</td>\n",
              "      <td>1</td>\n",
              "      <td>0</td>\n",
              "      <td>0</td>\n",
              "      <td>1</td>\n",
              "      <td>0</td>\n",
              "      <td>0</td>\n",
              "      <td>0</td>\n",
              "      <td>1</td>\n",
              "      <td>0</td>\n",
              "      <td>0</td>\n",
              "      <td>0</td>\n",
              "      <td>1</td>\n",
              "      <td>0</td>\n",
              "      <td>0</td>\n",
              "      <td>0</td>\n",
              "      <td>0</td>\n",
              "      <td>0</td>\n",
              "      <td>0</td>\n",
              "      <td>0</td>\n",
              "    </tr>\n",
              "    <tr>\n",
              "      <th>4</th>\n",
              "      <td>13.600</td>\n",
              "      <td>0.118599</td>\n",
              "      <td>234.2300</td>\n",
              "      <td>24</td>\n",
              "      <td>0</td>\n",
              "      <td>1</td>\n",
              "      <td>0</td>\n",
              "      <td>0</td>\n",
              "      <td>1</td>\n",
              "      <td>0</td>\n",
              "      <td>1</td>\n",
              "      <td>0</td>\n",
              "      <td>0</td>\n",
              "      <td>0</td>\n",
              "      <td>0</td>\n",
              "      <td>0</td>\n",
              "      <td>1</td>\n",
              "      <td>0</td>\n",
              "      <td>1</td>\n",
              "      <td>0</td>\n",
              "      <td>0</td>\n",
              "      <td>0</td>\n",
              "      <td>0</td>\n",
              "      <td>0</td>\n",
              "      <td>0</td>\n",
              "      <td>1</td>\n",
              "      <td>0</td>\n",
              "      <td>0</td>\n",
              "      <td>0</td>\n",
              "      <td>0</td>\n",
              "    </tr>\n",
              "  </tbody>\n",
              "</table>\n",
              "</div>"
            ],
            "text/plain": [
              "   Item_Weight  Item_Visibility  Item_MRP  ...  Outlet_7  Outlet_8  Outlet_9\n",
              "0       20.750         0.007565  107.8622  ...         0         0         1\n",
              "1        8.300         0.038428   87.3198  ...         0         0         0\n",
              "2       14.600         0.099575  241.7538  ...         0         0         0\n",
              "3        7.315         0.015388  155.0340  ...         0         0         0\n",
              "4       13.600         0.118599  234.2300  ...         0         0         0\n",
              "\n",
              "[5 rows x 30 columns]"
            ]
          },
          "metadata": {
            "tags": []
          },
          "execution_count": 96
        }
      ]
    },
    {
      "cell_type": "code",
      "metadata": {
        "id": "Ax9LvfRjQpMH"
      },
      "source": [
        "ntest = sc.transform(ntest)"
      ],
      "execution_count": 97,
      "outputs": []
    },
    {
      "cell_type": "code",
      "metadata": {
        "id": "BHZjYBE3ev_W"
      },
      "source": [
        "real_pred = model.predict(ntest)"
      ],
      "execution_count": 98,
      "outputs": []
    },
    {
      "cell_type": "code",
      "metadata": {
        "id": "c1RC7hYxfgSF",
        "outputId": "6bcd9da3-8841-4ad9-d059-fc709f50bf2d",
        "colab": {
          "base_uri": "https://localhost:8080/",
          "height": 136
        }
      },
      "source": [
        "real_pred"
      ],
      "execution_count": 99,
      "outputs": [
        {
          "output_type": "execute_result",
          "data": {
            "text/plain": [
              "array([[1385.1973],\n",
              "       [1357.4827],\n",
              "       [1138.6552],\n",
              "       ...,\n",
              "       [1938.2927],\n",
              "       [3378.0273],\n",
              "       [ 934.1398]], dtype=float32)"
            ]
          },
          "metadata": {
            "tags": []
          },
          "execution_count": 99
        }
      ]
    },
    {
      "cell_type": "code",
      "metadata": {
        "id": "yWgRbuyE5Ohj",
        "outputId": "adc9741d-a17f-495a-b319-4325231da3e2",
        "colab": {
          "base_uri": "https://localhost:8080/",
          "height": 204
        }
      },
      "source": [
        "sample=pd.read_csv(\"sample.csv\")\n",
        "sample.head()"
      ],
      "execution_count": 101,
      "outputs": [
        {
          "output_type": "execute_result",
          "data": {
            "text/html": [
              "<div>\n",
              "<style scoped>\n",
              "    .dataframe tbody tr th:only-of-type {\n",
              "        vertical-align: middle;\n",
              "    }\n",
              "\n",
              "    .dataframe tbody tr th {\n",
              "        vertical-align: top;\n",
              "    }\n",
              "\n",
              "    .dataframe thead th {\n",
              "        text-align: right;\n",
              "    }\n",
              "</style>\n",
              "<table border=\"1\" class=\"dataframe\">\n",
              "  <thead>\n",
              "    <tr style=\"text-align: right;\">\n",
              "      <th></th>\n",
              "      <th>Item_Identifier</th>\n",
              "      <th>Outlet_Identifier</th>\n",
              "      <th>Item_Outlet_Sales</th>\n",
              "    </tr>\n",
              "  </thead>\n",
              "  <tbody>\n",
              "    <tr>\n",
              "      <th>0</th>\n",
              "      <td>FDW58</td>\n",
              "      <td>OUT049</td>\n",
              "      <td>1000</td>\n",
              "    </tr>\n",
              "    <tr>\n",
              "      <th>1</th>\n",
              "      <td>FDW14</td>\n",
              "      <td>OUT017</td>\n",
              "      <td>1000</td>\n",
              "    </tr>\n",
              "    <tr>\n",
              "      <th>2</th>\n",
              "      <td>NCN55</td>\n",
              "      <td>OUT010</td>\n",
              "      <td>1000</td>\n",
              "    </tr>\n",
              "    <tr>\n",
              "      <th>3</th>\n",
              "      <td>FDQ58</td>\n",
              "      <td>OUT017</td>\n",
              "      <td>1000</td>\n",
              "    </tr>\n",
              "    <tr>\n",
              "      <th>4</th>\n",
              "      <td>FDY38</td>\n",
              "      <td>OUT027</td>\n",
              "      <td>1000</td>\n",
              "    </tr>\n",
              "  </tbody>\n",
              "</table>\n",
              "</div>"
            ],
            "text/plain": [
              "  Item_Identifier Outlet_Identifier  Item_Outlet_Sales\n",
              "0           FDW58            OUT049               1000\n",
              "1           FDW14            OUT017               1000\n",
              "2           NCN55            OUT010               1000\n",
              "3           FDQ58            OUT017               1000\n",
              "4           FDY38            OUT027               1000"
            ]
          },
          "metadata": {
            "tags": []
          },
          "execution_count": 101
        }
      ]
    },
    {
      "cell_type": "code",
      "metadata": {
        "id": "VZ4C5OG75qjD"
      },
      "source": [
        "sample['Item_Outlet_Sales'] = real_pred"
      ],
      "execution_count": 102,
      "outputs": []
    },
    {
      "cell_type": "code",
      "metadata": {
        "id": "cLdAWT8D5vsB",
        "outputId": "063d4f9f-e058-456a-bf85-edc8dcbe7b6d",
        "colab": {
          "base_uri": "https://localhost:8080/",
          "height": 204
        }
      },
      "source": [
        "sample.head()"
      ],
      "execution_count": 104,
      "outputs": [
        {
          "output_type": "execute_result",
          "data": {
            "text/html": [
              "<div>\n",
              "<style scoped>\n",
              "    .dataframe tbody tr th:only-of-type {\n",
              "        vertical-align: middle;\n",
              "    }\n",
              "\n",
              "    .dataframe tbody tr th {\n",
              "        vertical-align: top;\n",
              "    }\n",
              "\n",
              "    .dataframe thead th {\n",
              "        text-align: right;\n",
              "    }\n",
              "</style>\n",
              "<table border=\"1\" class=\"dataframe\">\n",
              "  <thead>\n",
              "    <tr style=\"text-align: right;\">\n",
              "      <th></th>\n",
              "      <th>Item_Identifier</th>\n",
              "      <th>Outlet_Identifier</th>\n",
              "      <th>Item_Outlet_Sales</th>\n",
              "    </tr>\n",
              "  </thead>\n",
              "  <tbody>\n",
              "    <tr>\n",
              "      <th>0</th>\n",
              "      <td>FDW58</td>\n",
              "      <td>OUT049</td>\n",
              "      <td>1385.197266</td>\n",
              "    </tr>\n",
              "    <tr>\n",
              "      <th>1</th>\n",
              "      <td>FDW14</td>\n",
              "      <td>OUT017</td>\n",
              "      <td>1357.482666</td>\n",
              "    </tr>\n",
              "    <tr>\n",
              "      <th>2</th>\n",
              "      <td>NCN55</td>\n",
              "      <td>OUT010</td>\n",
              "      <td>1138.655151</td>\n",
              "    </tr>\n",
              "    <tr>\n",
              "      <th>3</th>\n",
              "      <td>FDQ58</td>\n",
              "      <td>OUT017</td>\n",
              "      <td>2910.626953</td>\n",
              "    </tr>\n",
              "    <tr>\n",
              "      <th>4</th>\n",
              "      <td>FDY38</td>\n",
              "      <td>OUT027</td>\n",
              "      <td>5206.641113</td>\n",
              "    </tr>\n",
              "  </tbody>\n",
              "</table>\n",
              "</div>"
            ],
            "text/plain": [
              "  Item_Identifier Outlet_Identifier  Item_Outlet_Sales\n",
              "0           FDW58            OUT049        1385.197266\n",
              "1           FDW14            OUT017        1357.482666\n",
              "2           NCN55            OUT010        1138.655151\n",
              "3           FDQ58            OUT017        2910.626953\n",
              "4           FDY38            OUT027        5206.641113"
            ]
          },
          "metadata": {
            "tags": []
          },
          "execution_count": 104
        }
      ]
    },
    {
      "cell_type": "code",
      "metadata": {
        "id": "0f4wRMqD8F-m"
      },
      "source": [
        "sample.to_csv('submitANN.csv',index = False)"
      ],
      "execution_count": 111,
      "outputs": []
    }
  ]
}